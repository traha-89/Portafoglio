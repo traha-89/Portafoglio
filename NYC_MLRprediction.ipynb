{
 "cells": [
  {
   "cell_type": "markdown",
   "id": "86496f0e",
   "metadata": {},
   "source": [
    "## NYC Taxi Fare Prediction using Eexploratory Data Analysis and Machine Learning"
   ]
  },
  {
   "cell_type": "markdown",
   "id": "a5e8e53c",
   "metadata": {},
   "source": [
    "Source Dataset: https://data.cityofnewyork.us/Transportation/2017-Yellow-Taxi-Trip-Data/biws-g3hs/about_data\n",
    "\n"
   ]
  },
  {
   "cell_type": "markdown",
   "id": "23415cff",
   "metadata": {},
   "source": [
    "#### Import libraries"
   ]
  },
  {
   "cell_type": "code",
   "execution_count": null,
   "id": "63ed95bf",
   "metadata": {},
   "outputs": [],
   "source": [
    "# Basic imports for data analysis\n",
    "import numpy as np\n",
    "import pandas as pd\n",
    "\n",
    "# Importing libraries for data visualization\n",
    "import matplotlib.pyplot as plt\n",
    "import seaborn as sns\n",
    "\n",
    "# Importing libraries for data modeling\n",
    "from sklearn.model_selection import train_test_split\n"
   ]
  },
  {
   "cell_type": "markdown",
   "id": "320b81a3",
   "metadata": {},
   "source": [
    "#### Review Data Available"
   ]
  },
  {
   "cell_type": "markdown",
   "id": "7539ec4b",
   "metadata": {},
   "source": [
    "#### Exploratory Data Analysis"
   ]
  },
  {
   "cell_type": "markdown",
   "id": "4fda235b",
   "metadata": {},
   "source": [
    "#### Model Selection/Checking Assumptions"
   ]
  },
  {
   "cell_type": "markdown",
   "id": "d9ffe892",
   "metadata": {},
   "source": [
    "#### Model Build and Initial Assessment"
   ]
  },
  {
   "cell_type": "markdown",
   "id": "104507ee",
   "metadata": {},
   "source": [
    "#### Final Assessment and Summary"
   ]
  },
  {
   "cell_type": "markdown",
   "id": "9069d266",
   "metadata": {},
   "source": []
  }
 ],
 "metadata": {
  "kernelspec": {
   "display_name": ".venv",
   "language": "python",
   "name": "python3"
  },
  "language_info": {
   "name": "python",
   "version": "3.13.5"
  }
 },
 "nbformat": 4,
 "nbformat_minor": 5
}
