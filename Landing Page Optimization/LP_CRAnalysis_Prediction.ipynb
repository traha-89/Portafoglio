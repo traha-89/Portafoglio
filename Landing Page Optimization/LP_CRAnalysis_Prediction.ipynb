{
 "cells": [
  {
   "cell_type": "markdown",
   "id": "1575bc91",
   "metadata": {},
   "source": [
    "## Website Landing Page EDA, Statistical Analysis and Conversion Prediction"
   ]
  },
  {
   "cell_type": "markdown",
   "id": "a30f129f",
   "metadata": {},
   "source": [
    "### Description of data  \n",
    "Source Dataset: https://github.com/jainds/eda-for-conversion-rate-dataset/tree/master  \n",
    "\n",
    "- \"conversion_data\" - information about signed-in users during one session. Each row is a user session.\n",
    "- *country* : user country based on the IP address\n",
    "- *age* : user age. Self-reported at sign-in step\n",
    "- *new_user* : whether the user created the account during this session or had already an account and simply came back to the site\n",
    "- *source* : marketing channel source\n",
    "    - *Ads*: came to the site by clicking on an advertisement\n",
    "    - *Seo*: came to the site by clicking on search results\n",
    "    - *Direct*: came to the site by directly typing the URL on the browser\n",
    "- *total_pages_visited*: number of total pages visited during the session (proxy for time spent on site and engagement during the session).\n",
    "- *converted*: this is our label. 1 means they converted within the session, 0 means they left without buying anything."
   ]
  },
  {
   "cell_type": "markdown",
   "id": "be81ef8a",
   "metadata": {},
   "source": [
    "### Objective\n",
    "- Conduct an Exploratory Data Analysis (Data cleaning & prep, Uni/Bivariate Analysis, Conversion Rate Analysis)\n",
    "- Statistical Testing to assess variables impacting Conversion Rate, Relationships among Variables \n",
    "- A/B Testing to assess impact of change in Landing Page (using artifically generated experiment vs. control group data)\n",
    "- Development of an ML Classification model to predict Conversion of User, achieving at least 85% F1 Score.\n"
   ]
  },
  {
   "cell_type": "markdown",
   "id": "42acd56a",
   "metadata": {},
   "source": [
    "### Initiation"
   ]
  },
  {
   "cell_type": "code",
   "execution_count": 67,
   "id": "a8974b50",
   "metadata": {},
   "outputs": [],
   "source": [
    "# Import libraries\n",
    "\n",
    "# Basic Data Imports\n",
    "import numpy as np\n",
    "import pandas as pd\n",
    "import datetime as dt \n",
    "\n",
    "# Imports for visualization\n",
    "import matplotlib.pyplot as plt\n",
    "import seaborn as sns\n",
    "import plotly.express as px\n",
    "\n",
    "# Imports for stats\n",
    "from scipy.stats import spearmanr\n"
   ]
  },
  {
   "cell_type": "code",
   "execution_count": 68,
   "id": "df297085",
   "metadata": {},
   "outputs": [
    {
     "data": {
      "text/html": [
       "<div>\n",
       "<style scoped>\n",
       "    .dataframe tbody tr th:only-of-type {\n",
       "        vertical-align: middle;\n",
       "    }\n",
       "\n",
       "    .dataframe tbody tr th {\n",
       "        vertical-align: top;\n",
       "    }\n",
       "\n",
       "    .dataframe thead th {\n",
       "        text-align: right;\n",
       "    }\n",
       "</style>\n",
       "<table border=\"1\" class=\"dataframe\">\n",
       "  <thead>\n",
       "    <tr style=\"text-align: right;\">\n",
       "      <th></th>\n",
       "      <th>country</th>\n",
       "      <th>age</th>\n",
       "      <th>new_user</th>\n",
       "      <th>source</th>\n",
       "      <th>total_pages_visited</th>\n",
       "      <th>converted</th>\n",
       "    </tr>\n",
       "  </thead>\n",
       "  <tbody>\n",
       "    <tr>\n",
       "      <th>0</th>\n",
       "      <td>UK</td>\n",
       "      <td>25</td>\n",
       "      <td>1</td>\n",
       "      <td>Ads</td>\n",
       "      <td>1</td>\n",
       "      <td>0</td>\n",
       "    </tr>\n",
       "    <tr>\n",
       "      <th>1</th>\n",
       "      <td>US</td>\n",
       "      <td>23</td>\n",
       "      <td>1</td>\n",
       "      <td>Seo</td>\n",
       "      <td>5</td>\n",
       "      <td>0</td>\n",
       "    </tr>\n",
       "    <tr>\n",
       "      <th>2</th>\n",
       "      <td>US</td>\n",
       "      <td>28</td>\n",
       "      <td>1</td>\n",
       "      <td>Seo</td>\n",
       "      <td>4</td>\n",
       "      <td>0</td>\n",
       "    </tr>\n",
       "    <tr>\n",
       "      <th>3</th>\n",
       "      <td>China</td>\n",
       "      <td>39</td>\n",
       "      <td>1</td>\n",
       "      <td>Seo</td>\n",
       "      <td>5</td>\n",
       "      <td>0</td>\n",
       "    </tr>\n",
       "    <tr>\n",
       "      <th>4</th>\n",
       "      <td>US</td>\n",
       "      <td>30</td>\n",
       "      <td>1</td>\n",
       "      <td>Seo</td>\n",
       "      <td>6</td>\n",
       "      <td>0</td>\n",
       "    </tr>\n",
       "  </tbody>\n",
       "</table>\n",
       "</div>"
      ],
      "text/plain": [
       "  country  age  new_user source  total_pages_visited  converted\n",
       "0      UK   25         1    Ads                    1          0\n",
       "1      US   23         1    Seo                    5          0\n",
       "2      US   28         1    Seo                    4          0\n",
       "3   China   39         1    Seo                    5          0\n",
       "4      US   30         1    Seo                    6          0"
      ]
     },
     "execution_count": 68,
     "metadata": {},
     "output_type": "execute_result"
    }
   ],
   "source": [
    "# Import dataset\n",
    "\n",
    "df_original= pd.read_csv('data/conversion_data.csv')\n",
    "df_original.head()"
   ]
  },
  {
   "cell_type": "code",
   "execution_count": 69,
   "id": "988bc255",
   "metadata": {},
   "outputs": [
    {
     "name": "stdout",
     "output_type": "stream",
     "text": [
      "<class 'pandas.core.frame.DataFrame'>\n",
      "RangeIndex: 316200 entries, 0 to 316199\n",
      "Data columns (total 6 columns):\n",
      " #   Column               Non-Null Count   Dtype \n",
      "---  ------               --------------   ----- \n",
      " 0   country              316200 non-null  object\n",
      " 1   age                  316200 non-null  int64 \n",
      " 2   new_user             316200 non-null  int64 \n",
      " 3   source               316200 non-null  object\n",
      " 4   total_pages_visited  316200 non-null  int64 \n",
      " 5   converted            316200 non-null  int64 \n",
      "dtypes: int64(4), object(2)\n",
      "memory usage: 14.5+ MB\n"
     ]
    }
   ],
   "source": [
    "df_original.info()"
   ]
  },
  {
   "cell_type": "markdown",
   "id": "76b9d58e",
   "metadata": {},
   "source": [
    "- Total 316,200 records, none of the columns have null values.\n",
    "- No changes needed in data type."
   ]
  },
  {
   "cell_type": "code",
   "execution_count": 70,
   "id": "8ade66bb",
   "metadata": {},
   "outputs": [
    {
     "data": {
      "text/html": [
       "<div>\n",
       "<style scoped>\n",
       "    .dataframe tbody tr th:only-of-type {\n",
       "        vertical-align: middle;\n",
       "    }\n",
       "\n",
       "    .dataframe tbody tr th {\n",
       "        vertical-align: top;\n",
       "    }\n",
       "\n",
       "    .dataframe thead th {\n",
       "        text-align: right;\n",
       "    }\n",
       "</style>\n",
       "<table border=\"1\" class=\"dataframe\">\n",
       "  <thead>\n",
       "    <tr style=\"text-align: right;\">\n",
       "      <th></th>\n",
       "      <th>country</th>\n",
       "      <th>age</th>\n",
       "      <th>new_user</th>\n",
       "      <th>source</th>\n",
       "      <th>total_pages_visited</th>\n",
       "      <th>converted</th>\n",
       "    </tr>\n",
       "  </thead>\n",
       "  <tbody>\n",
       "    <tr>\n",
       "      <th>count</th>\n",
       "      <td>316200</td>\n",
       "      <td>316200.000000</td>\n",
       "      <td>316200.000000</td>\n",
       "      <td>316200</td>\n",
       "      <td>316200.000000</td>\n",
       "      <td>316200.000000</td>\n",
       "    </tr>\n",
       "    <tr>\n",
       "      <th>unique</th>\n",
       "      <td>4</td>\n",
       "      <td>NaN</td>\n",
       "      <td>NaN</td>\n",
       "      <td>3</td>\n",
       "      <td>NaN</td>\n",
       "      <td>NaN</td>\n",
       "    </tr>\n",
       "    <tr>\n",
       "      <th>top</th>\n",
       "      <td>US</td>\n",
       "      <td>NaN</td>\n",
       "      <td>NaN</td>\n",
       "      <td>Seo</td>\n",
       "      <td>NaN</td>\n",
       "      <td>NaN</td>\n",
       "    </tr>\n",
       "    <tr>\n",
       "      <th>freq</th>\n",
       "      <td>178092</td>\n",
       "      <td>NaN</td>\n",
       "      <td>NaN</td>\n",
       "      <td>155040</td>\n",
       "      <td>NaN</td>\n",
       "      <td>NaN</td>\n",
       "    </tr>\n",
       "    <tr>\n",
       "      <th>mean</th>\n",
       "      <td>NaN</td>\n",
       "      <td>30.569858</td>\n",
       "      <td>0.685465</td>\n",
       "      <td>NaN</td>\n",
       "      <td>4.872966</td>\n",
       "      <td>0.032258</td>\n",
       "    </tr>\n",
       "    <tr>\n",
       "      <th>std</th>\n",
       "      <td>NaN</td>\n",
       "      <td>8.271802</td>\n",
       "      <td>0.464331</td>\n",
       "      <td>NaN</td>\n",
       "      <td>3.341104</td>\n",
       "      <td>0.176685</td>\n",
       "    </tr>\n",
       "    <tr>\n",
       "      <th>min</th>\n",
       "      <td>NaN</td>\n",
       "      <td>17.000000</td>\n",
       "      <td>0.000000</td>\n",
       "      <td>NaN</td>\n",
       "      <td>1.000000</td>\n",
       "      <td>0.000000</td>\n",
       "    </tr>\n",
       "    <tr>\n",
       "      <th>25%</th>\n",
       "      <td>NaN</td>\n",
       "      <td>24.000000</td>\n",
       "      <td>0.000000</td>\n",
       "      <td>NaN</td>\n",
       "      <td>2.000000</td>\n",
       "      <td>0.000000</td>\n",
       "    </tr>\n",
       "    <tr>\n",
       "      <th>50%</th>\n",
       "      <td>NaN</td>\n",
       "      <td>30.000000</td>\n",
       "      <td>1.000000</td>\n",
       "      <td>NaN</td>\n",
       "      <td>4.000000</td>\n",
       "      <td>0.000000</td>\n",
       "    </tr>\n",
       "    <tr>\n",
       "      <th>75%</th>\n",
       "      <td>NaN</td>\n",
       "      <td>36.000000</td>\n",
       "      <td>1.000000</td>\n",
       "      <td>NaN</td>\n",
       "      <td>7.000000</td>\n",
       "      <td>0.000000</td>\n",
       "    </tr>\n",
       "    <tr>\n",
       "      <th>max</th>\n",
       "      <td>NaN</td>\n",
       "      <td>123.000000</td>\n",
       "      <td>1.000000</td>\n",
       "      <td>NaN</td>\n",
       "      <td>29.000000</td>\n",
       "      <td>1.000000</td>\n",
       "    </tr>\n",
       "  </tbody>\n",
       "</table>\n",
       "</div>"
      ],
      "text/plain": [
       "       country            age       new_user  source  total_pages_visited  \\\n",
       "count   316200  316200.000000  316200.000000  316200        316200.000000   \n",
       "unique       4            NaN            NaN       3                  NaN   \n",
       "top         US            NaN            NaN     Seo                  NaN   \n",
       "freq    178092            NaN            NaN  155040                  NaN   \n",
       "mean       NaN      30.569858       0.685465     NaN             4.872966   \n",
       "std        NaN       8.271802       0.464331     NaN             3.341104   \n",
       "min        NaN      17.000000       0.000000     NaN             1.000000   \n",
       "25%        NaN      24.000000       0.000000     NaN             2.000000   \n",
       "50%        NaN      30.000000       1.000000     NaN             4.000000   \n",
       "75%        NaN      36.000000       1.000000     NaN             7.000000   \n",
       "max        NaN     123.000000       1.000000     NaN            29.000000   \n",
       "\n",
       "            converted  \n",
       "count   316200.000000  \n",
       "unique            NaN  \n",
       "top               NaN  \n",
       "freq              NaN  \n",
       "mean         0.032258  \n",
       "std          0.176685  \n",
       "min          0.000000  \n",
       "25%          0.000000  \n",
       "50%          0.000000  \n",
       "75%          0.000000  \n",
       "max          1.000000  "
      ]
     },
     "execution_count": 70,
     "metadata": {},
     "output_type": "execute_result"
    }
   ],
   "source": [
    "df_original.describe(include= 'all')"
   ]
  },
  {
   "cell_type": "markdown",
   "id": "b95f975e",
   "metadata": {},
   "source": [
    "Initial Observations:\n",
    "- Our dataset is derived from 4 countries, with most of the data being from US (more than 50%).\n",
    "- Average age of visitors is ~ 31 years. Maximum age is 123 years, which looks like an outlier. Will check for outlying values.\n",
    "- *new_user* being 1 implies they created an account when they visited the website in that instance. Average value of 0.68 indicates generally we might have more new users than old users.\n",
    "- We have 3 channels identified as source (already defined in data description). ~50% of the visitors are coming from search results, and are in majority.\n",
    "- Average page visits by users = 4.87. Maximum page visits by a user in a session is 29.\n",
    "- *converted* would imply sale/conversion in that particular record/session. Average value of 0.0322 implies about 3.22% aggregate conversion rate. \n"
   ]
  },
  {
   "cell_type": "markdown",
   "id": "54040d84",
   "metadata": {},
   "source": [
    "### Exploratory Data Analysis (EDA)\n",
    "We'll follow the workflow below:\n",
    "- Data Cleaning & Preparation, Check for missing values, duplicates and outliers.\n",
    "- *Univariate Analysis*: \n",
    "    - Examine distributions of numerical variables (histograms for age, pages visited, etc.).\n",
    "    - Review frequency counts for categorical variables (country, acquisition channel).\n",
    "- *Bivariate Analysis*:\n",
    "    - Use correlation matrices for numeric features (Age/Pages visited).\n",
    "    - Country/Age, New User, Source, Mktg. Channel, Page visits\n",
    "    - Age/New User, Source, Page Visits\n",
    "    - New User/Source, Page visits\n",
    "    - Source/Page Visits \n",
    "- *Deriving Conversion Rate*:\n",
    "    - Calculate Agg. Conversion Rate (No. of Conversions/Total Sessions)\n",
    "    - *Segmented rates*: conversion rates by category (e.g., by country, device type)."
   ]
  },
  {
   "cell_type": "markdown",
   "id": "ebe55b1f",
   "metadata": {},
   "source": [
    "#### Data Cleaning"
   ]
  },
  {
   "cell_type": "code",
   "execution_count": 71,
   "id": "00155144",
   "metadata": {},
   "outputs": [
    {
     "data": {
      "text/html": [
       "<div>\n",
       "<style scoped>\n",
       "    .dataframe tbody tr th:only-of-type {\n",
       "        vertical-align: middle;\n",
       "    }\n",
       "\n",
       "    .dataframe tbody tr th {\n",
       "        vertical-align: top;\n",
       "    }\n",
       "\n",
       "    .dataframe thead th {\n",
       "        text-align: right;\n",
       "    }\n",
       "</style>\n",
       "<table border=\"1\" class=\"dataframe\">\n",
       "  <thead>\n",
       "    <tr style=\"text-align: right;\">\n",
       "      <th></th>\n",
       "      <th>country</th>\n",
       "      <th>age</th>\n",
       "      <th>new_user</th>\n",
       "      <th>source</th>\n",
       "      <th>total_pages_visited</th>\n",
       "      <th>converted</th>\n",
       "    </tr>\n",
       "  </thead>\n",
       "  <tbody>\n",
       "    <tr>\n",
       "      <th>0</th>\n",
       "      <td>UK</td>\n",
       "      <td>25</td>\n",
       "      <td>1</td>\n",
       "      <td>Ads</td>\n",
       "      <td>1</td>\n",
       "      <td>0</td>\n",
       "    </tr>\n",
       "    <tr>\n",
       "      <th>1</th>\n",
       "      <td>US</td>\n",
       "      <td>23</td>\n",
       "      <td>1</td>\n",
       "      <td>Seo</td>\n",
       "      <td>5</td>\n",
       "      <td>0</td>\n",
       "    </tr>\n",
       "    <tr>\n",
       "      <th>2</th>\n",
       "      <td>US</td>\n",
       "      <td>28</td>\n",
       "      <td>1</td>\n",
       "      <td>Seo</td>\n",
       "      <td>4</td>\n",
       "      <td>0</td>\n",
       "    </tr>\n",
       "    <tr>\n",
       "      <th>3</th>\n",
       "      <td>China</td>\n",
       "      <td>39</td>\n",
       "      <td>1</td>\n",
       "      <td>Seo</td>\n",
       "      <td>5</td>\n",
       "      <td>0</td>\n",
       "    </tr>\n",
       "    <tr>\n",
       "      <th>4</th>\n",
       "      <td>US</td>\n",
       "      <td>30</td>\n",
       "      <td>1</td>\n",
       "      <td>Seo</td>\n",
       "      <td>6</td>\n",
       "      <td>0</td>\n",
       "    </tr>\n",
       "  </tbody>\n",
       "</table>\n",
       "</div>"
      ],
      "text/plain": [
       "  country  age  new_user source  total_pages_visited  converted\n",
       "0      UK   25         1    Ads                    1          0\n",
       "1      US   23         1    Seo                    5          0\n",
       "2      US   28         1    Seo                    4          0\n",
       "3   China   39         1    Seo                    5          0\n",
       "4      US   30         1    Seo                    6          0"
      ]
     },
     "execution_count": 71,
     "metadata": {},
     "output_type": "execute_result"
    }
   ],
   "source": [
    "# Already checked in DF info that we don't have null values.\n",
    "# Checking for duplicates\n",
    "\n",
    "df_original.head()"
   ]
  },
  {
   "cell_type": "markdown",
   "id": "b289a9ca",
   "metadata": {},
   "source": [
    "As the variables contain information about the demographic, marketing channel and general stats, there are likely to be duplications, considering we don't have any Personal Information to differentiate user session by any identity or specific location/time etc.  \n",
    "\n",
    "Hence in this case, we will not be removing any duplicate records. We have already reviewed under the dataframe info that none of the columns have missing values."
   ]
  },
  {
   "cell_type": "code",
   "execution_count": 72,
   "id": "4b5cdef8",
   "metadata": {},
   "outputs": [
    {
     "data": {
      "text/plain": [
       "country                0\n",
       "age                    0\n",
       "new_user               0\n",
       "source                 0\n",
       "total_pages_visited    0\n",
       "converted              0\n",
       "dtype: int64"
      ]
     },
     "execution_count": 72,
     "metadata": {},
     "output_type": "execute_result"
    }
   ],
   "source": [
    "df_original.isna().sum()"
   ]
  },
  {
   "cell_type": "code",
   "execution_count": 73,
   "id": "9a40f7c7",
   "metadata": {},
   "outputs": [
    {
     "data": {
      "image/png": "[encoded data removed]",
      "text/plain": [
       "<Figure size 1500x500 with 2 Axes>"
      ]
     },
     "metadata": {},
     "output_type": "display_data"
    }
   ],
   "source": [
    "# Plotting boxplot to assess outliers in continuous variables age and total_pages_visited \n",
    "fig, axes = plt.subplots(1,2, figsize= (15,5))\n",
    "ax1= sns.boxplot(df_original['age'],ax= axes[0])\n",
    "ax1.set_title('Boxplot of Age')\n",
    "\n",
    "ax2= sns.boxplot(df_original['total_pages_visited'],ax= axes[1])\n",
    "ax2.set_title('Boxplot of total_pages_visited')\n",
    "\n",
    "plt.show()"
   ]
  },
  {
   "cell_type": "markdown",
   "id": "ffbea4b0",
   "metadata": {},
   "source": [
    "- 'Age' has quite a few extreme outliers. We also have values greater than 100, which we'll look into. Outliers might need to be dealt with for some modeling uses.\n",
    "- 'total_pages_visited' is less skewed and there are some outlying values.\n",
    "- We'll consider necessary action based on future needs."
   ]
  },
  {
   "cell_type": "code",
   "execution_count": 74,
   "id": "c7cf42b0",
   "metadata": {},
   "outputs": [
    {
     "data": {
      "text/html": [
       "<div>\n",
       "<style scoped>\n",
       "    .dataframe tbody tr th:only-of-type {\n",
       "        vertical-align: middle;\n",
       "    }\n",
       "\n",
       "    .dataframe tbody tr th {\n",
       "        vertical-align: top;\n",
       "    }\n",
       "\n",
       "    .dataframe thead th {\n",
       "        text-align: right;\n",
       "    }\n",
       "</style>\n",
       "<table border=\"1\" class=\"dataframe\">\n",
       "  <thead>\n",
       "    <tr style=\"text-align: right;\">\n",
       "      <th></th>\n",
       "      <th>country</th>\n",
       "      <th>age</th>\n",
       "      <th>new_user</th>\n",
       "      <th>source</th>\n",
       "      <th>total_pages_visited</th>\n",
       "      <th>converted</th>\n",
       "    </tr>\n",
       "  </thead>\n",
       "  <tbody>\n",
       "    <tr>\n",
       "      <th>90928</th>\n",
       "      <td>Germany</td>\n",
       "      <td>123</td>\n",
       "      <td>0</td>\n",
       "      <td>Seo</td>\n",
       "      <td>15</td>\n",
       "      <td>1</td>\n",
       "    </tr>\n",
       "    <tr>\n",
       "      <th>295581</th>\n",
       "      <td>UK</td>\n",
       "      <td>111</td>\n",
       "      <td>0</td>\n",
       "      <td>Ads</td>\n",
       "      <td>10</td>\n",
       "      <td>1</td>\n",
       "    </tr>\n",
       "  </tbody>\n",
       "</table>\n",
       "</div>"
      ],
      "text/plain": [
       "        country  age  new_user source  total_pages_visited  converted\n",
       "90928   Germany  123         0    Seo                   15          1\n",
       "295581       UK  111         0    Ads                   10          1"
      ]
     },
     "execution_count": 74,
     "metadata": {},
     "output_type": "execute_result"
    }
   ],
   "source": [
    "df_original[df_original['age'] >100]"
   ]
  },
  {
   "cell_type": "code",
   "execution_count": 75,
   "id": "d503b8b8",
   "metadata": {},
   "outputs": [
    {
     "data": {
      "text/html": [
       "<div>\n",
       "<style scoped>\n",
       "    .dataframe tbody tr th:only-of-type {\n",
       "        vertical-align: middle;\n",
       "    }\n",
       "\n",
       "    .dataframe tbody tr th {\n",
       "        vertical-align: top;\n",
       "    }\n",
       "\n",
       "    .dataframe thead th {\n",
       "        text-align: right;\n",
       "    }\n",
       "</style>\n",
       "<table border=\"1\" class=\"dataframe\">\n",
       "  <thead>\n",
       "    <tr style=\"text-align: right;\">\n",
       "      <th></th>\n",
       "      <th>country</th>\n",
       "      <th>age</th>\n",
       "      <th>new_user</th>\n",
       "      <th>source</th>\n",
       "      <th>total_pages_visited</th>\n",
       "      <th>converted</th>\n",
       "    </tr>\n",
       "  </thead>\n",
       "  <tbody>\n",
       "    <tr>\n",
       "      <th>90928</th>\n",
       "      <td>Germany</td>\n",
       "      <td>123</td>\n",
       "      <td>0</td>\n",
       "      <td>Seo</td>\n",
       "      <td>15</td>\n",
       "      <td>1</td>\n",
       "    </tr>\n",
       "    <tr>\n",
       "      <th>295581</th>\n",
       "      <td>UK</td>\n",
       "      <td>111</td>\n",
       "      <td>0</td>\n",
       "      <td>Ads</td>\n",
       "      <td>10</td>\n",
       "      <td>1</td>\n",
       "    </tr>\n",
       "    <tr>\n",
       "      <th>265167</th>\n",
       "      <td>US</td>\n",
       "      <td>79</td>\n",
       "      <td>1</td>\n",
       "      <td>Direct</td>\n",
       "      <td>1</td>\n",
       "      <td>0</td>\n",
       "    </tr>\n",
       "    <tr>\n",
       "      <th>192644</th>\n",
       "      <td>US</td>\n",
       "      <td>77</td>\n",
       "      <td>0</td>\n",
       "      <td>Direct</td>\n",
       "      <td>4</td>\n",
       "      <td>0</td>\n",
       "    </tr>\n",
       "    <tr>\n",
       "      <th>154217</th>\n",
       "      <td>US</td>\n",
       "      <td>73</td>\n",
       "      <td>1</td>\n",
       "      <td>Seo</td>\n",
       "      <td>5</td>\n",
       "      <td>0</td>\n",
       "    </tr>\n",
       "  </tbody>\n",
       "</table>\n",
       "</div>"
      ],
      "text/plain": [
       "        country  age  new_user  source  total_pages_visited  converted\n",
       "90928   Germany  123         0     Seo                   15          1\n",
       "295581       UK  111         0     Ads                   10          1\n",
       "265167       US   79         1  Direct                    1          0\n",
       "192644       US   77         0  Direct                    4          0\n",
       "154217       US   73         1     Seo                    5          0"
      ]
     },
     "execution_count": 75,
     "metadata": {},
     "output_type": "execute_result"
    }
   ],
   "source": [
    "df_original.sort_values(by= ['age'], ascending= False).head()"
   ]
  },
  {
   "cell_type": "markdown",
   "id": "1a1bad49",
   "metadata": {},
   "source": [
    "There are 2 sessions, wherein the visitor age is above 100, which seems an erroneous value. As these are just 2 session records, we'll leave them as it is, given it wouldn't impact much."
   ]
  },
  {
   "cell_type": "code",
   "execution_count": 76,
   "id": "d6e27957",
   "metadata": {},
   "outputs": [
    {
     "data": {
      "text/html": [
       "<div>\n",
       "<style scoped>\n",
       "    .dataframe tbody tr th:only-of-type {\n",
       "        vertical-align: middle;\n",
       "    }\n",
       "\n",
       "    .dataframe tbody tr th {\n",
       "        vertical-align: top;\n",
       "    }\n",
       "\n",
       "    .dataframe thead th {\n",
       "        text-align: right;\n",
       "    }\n",
       "</style>\n",
       "<table border=\"1\" class=\"dataframe\">\n",
       "  <thead>\n",
       "    <tr style=\"text-align: right;\">\n",
       "      <th></th>\n",
       "      <th>country</th>\n",
       "      <th>age</th>\n",
       "      <th>new_user</th>\n",
       "      <th>channel</th>\n",
       "      <th>page_visits</th>\n",
       "      <th>converted</th>\n",
       "    </tr>\n",
       "  </thead>\n",
       "  <tbody>\n",
       "    <tr>\n",
       "      <th>0</th>\n",
       "      <td>UK</td>\n",
       "      <td>25</td>\n",
       "      <td>1</td>\n",
       "      <td>Ads</td>\n",
       "      <td>1</td>\n",
       "      <td>0</td>\n",
       "    </tr>\n",
       "    <tr>\n",
       "      <th>1</th>\n",
       "      <td>US</td>\n",
       "      <td>23</td>\n",
       "      <td>1</td>\n",
       "      <td>Seo</td>\n",
       "      <td>5</td>\n",
       "      <td>0</td>\n",
       "    </tr>\n",
       "    <tr>\n",
       "      <th>2</th>\n",
       "      <td>US</td>\n",
       "      <td>28</td>\n",
       "      <td>1</td>\n",
       "      <td>Seo</td>\n",
       "      <td>4</td>\n",
       "      <td>0</td>\n",
       "    </tr>\n",
       "    <tr>\n",
       "      <th>3</th>\n",
       "      <td>China</td>\n",
       "      <td>39</td>\n",
       "      <td>1</td>\n",
       "      <td>Seo</td>\n",
       "      <td>5</td>\n",
       "      <td>0</td>\n",
       "    </tr>\n",
       "    <tr>\n",
       "      <th>4</th>\n",
       "      <td>US</td>\n",
       "      <td>30</td>\n",
       "      <td>1</td>\n",
       "      <td>Seo</td>\n",
       "      <td>6</td>\n",
       "      <td>0</td>\n",
       "    </tr>\n",
       "  </tbody>\n",
       "</table>\n",
       "</div>"
      ],
      "text/plain": [
       "  country  age  new_user channel  page_visits  converted\n",
       "0      UK   25         1     Ads            1          0\n",
       "1      US   23         1     Seo            5          0\n",
       "2      US   28         1     Seo            4          0\n",
       "3   China   39         1     Seo            5          0\n",
       "4      US   30         1     Seo            6          0"
      ]
     },
     "execution_count": 76,
     "metadata": {},
     "output_type": "execute_result"
    }
   ],
   "source": [
    "# Creating a derived DF with renamed columns for simplicity\n",
    "df_edit= df_original.rename(columns= {'total_pages_visited':'page_visits', 'source':'channel'})\n",
    "df_edit.head()"
   ]
  },
  {
   "cell_type": "markdown",
   "id": "c0a6e6ab",
   "metadata": {},
   "source": [
    "#### Univariate Analysis "
   ]
  },
  {
   "cell_type": "code",
   "execution_count": 77,
   "id": "ade6eb65",
   "metadata": {},
   "outputs": [
    {
     "data": {
      "image/png": "[encoded data removed]",
      "text/plain": [
       "<Figure size 1500x500 with 2 Axes>"
      ]
     },
     "metadata": {},
     "output_type": "display_data"
    }
   ],
   "source": [
    "# Plotting histogram to review distribution of discrete variables\n",
    "fig, axes = plt.subplots(1,2, figsize= (15,5))\n",
    "ax1= sns.histplot(df_edit['age'], binwidth= 10, binrange= (0,120), ax= axes[0])\n",
    "ax1.set_title('Histogram of Age')\n",
    "\n",
    "ax2= sns.histplot(df_edit['page_visits'], binwidth= 5, binrange= (0,40), ax= axes[1])\n",
    "ax2.set_title('Histogram of page_visits')\n",
    "\n",
    "plt.show()"
   ]
  },
  {
   "cell_type": "code",
   "execution_count": 78,
   "id": "31ec523c",
   "metadata": {},
   "outputs": [
    {
     "name": "stdout",
     "output_type": "stream",
     "text": [
      "Five Number Summary - Age:-\n",
      "Minimum age: 17\n",
      "Lower Quartile: 24.0\n",
      "Median: 30.0\n",
      "Upper Quartile: 36.0\n",
      "Maximum age: 123\n",
      "\n",
      "Five Number Summary - page_visits:-\n",
      "Minimum visits: 1\n",
      "Lower Quartile: 2.0\n",
      "Median: 4.0\n",
      "Upper Quartile: 7.0\n",
      "Maximum visits: 29\n"
     ]
    }
   ],
   "source": [
    "# Summary Statistics:\n",
    "print('Five Number Summary - Age:-')\n",
    "print('Minimum age:', df_edit['age'].min())\n",
    "print('Lower Quartile:', df_edit['age'].quantile(0.25))\n",
    "print('Median:', df_edit['age'].median())\n",
    "print('Upper Quartile:', df_edit['age'].quantile(0.75))\n",
    "print('Maximum age:', df_edit['age'].max())\n",
    "\n",
    "print()\n",
    "print('Five Number Summary - page_visits:-')\n",
    "print('Minimum visits:', df_edit['page_visits'].min())\n",
    "print('Lower Quartile:', df_edit['page_visits'].quantile(0.25))\n",
    "print('Median:', df_edit['page_visits'].median())\n",
    "print('Upper Quartile:', df_edit['page_visits'].quantile(0.75))\n",
    "print('Maximum visits:', df_edit['page_visits'].max())\n"
   ]
  },
  {
   "cell_type": "markdown",
   "id": "feed4c82",
   "metadata": {},
   "source": [
    "- Most visitors are between the age of 20-30 (more than 120K). \n",
    "- Most visitors are viewing between 0-5 pages on the website.\n",
    "- Most visitors are aged 30 and visit 4 pages.\n",
    "- Both distributions are skewed to the right."
   ]
  },
  {
   "cell_type": "code",
   "execution_count": 79,
   "id": "203ae440",
   "metadata": {},
   "outputs": [
    {
     "name": "stdout",
     "output_type": "stream",
     "text": [
      "country\n",
      "US         178092\n",
      "China       76602\n",
      "UK          48450\n",
      "Germany     13056\n",
      "Name: count, dtype: int64\n",
      "\n",
      "new_user\n",
      "1    216744\n",
      "0     99456\n",
      "Name: count, dtype: int64\n",
      "\n",
      "channel\n",
      "Seo       155040\n",
      "Ads        88740\n",
      "Direct     72420\n",
      "Name: count, dtype: int64\n",
      "\n",
      "converted\n",
      "0    306000\n",
      "1     10200\n",
      "Name: count, dtype: int64\n"
     ]
    }
   ],
   "source": [
    "# Review frequency counts for categorical variables (country, acquisition channel)\n",
    "\n",
    "print(df_edit['country'].value_counts())\n",
    "print()\n",
    "print(df_edit['new_user'].value_counts())\n",
    "print()\n",
    "print(df_edit['channel'].value_counts())\n",
    "print()\n",
    "print(df_edit['converted'].value_counts())"
   ]
  },
  {
   "cell_type": "markdown",
   "id": "5bc29c1b",
   "metadata": {},
   "source": [
    "For our target variable, we have ~3% values as converted. There is a high *Class Imbalance* here, and if we do not get satisfactory performance from our models, we may try *Class Balancing*."
   ]
  },
  {
   "cell_type": "markdown",
   "id": "adf0e49b",
   "metadata": {},
   "source": [
    "#### Bivariate Analysis"
   ]
  },
  {
   "cell_type": "markdown",
   "id": "f5ab6cfd",
   "metadata": {},
   "source": [
    "##### Correlation between discrete variables"
   ]
  },
  {
   "cell_type": "code",
   "execution_count": 80,
   "id": "12dde1af",
   "metadata": {},
   "outputs": [
    {
     "data": {
      "image/png": "[encoded data removed]",
      "text/plain": [
       "<Figure size 800x500 with 1 Axes>"
      ]
     },
     "metadata": {},
     "output_type": "display_data"
    }
   ],
   "source": [
    "# Check correlation for numeric features (Age/Pages visited).\n",
    "plt.figure(figsize= (8,5))\n",
    "sns.scatterplot(y= df_edit['age'], x= df_edit['page_visits'], alpha= 0.2)\n",
    "plt.title('Scatterplot age vs. page visits')\n",
    "plt.show()"
   ]
  },
  {
   "cell_type": "code",
   "execution_count": 81,
   "id": "d9735667",
   "metadata": {},
   "outputs": [
    {
     "name": "stdout",
     "output_type": "stream",
     "text": [
      "Spearman's rank correlation coefficient: -0.02610222876782161\n",
      "P-value: 8.638578755890443e-49\n"
     ]
    }
   ],
   "source": [
    "# Calculate Spearman's rank coefficient and p-value\n",
    "\n",
    "rho, p_val = spearmanr(df_edit['age'],df_edit['page_visits'])\n",
    "\n",
    "print(\"Spearman's rank correlation coefficient:\", rho)\n",
    "print(\"P-value:\", p_val)"
   ]
  },
  {
   "cell_type": "markdown",
   "id": "70e5fe07",
   "metadata": {},
   "source": [
    "There is almost no correlation between age and page visits. The statistical significance might be due to the large sample size."
   ]
  },
  {
   "cell_type": "markdown",
   "id": "fe34a60c",
   "metadata": {},
   "source": [
    "##### Comparison by Market"
   ]
  },
  {
   "cell_type": "code",
   "execution_count": null,
   "id": "1afbd287",
   "metadata": {},
   "outputs": [
    {
     "data": {
      "text/html": [
       "<style type=\"text/css\">\n",
       "#T_81fd8_row0_col0, #T_81fd8_row0_col2, #T_81fd8_row1_col1, #T_81fd8_row1_col3, #T_81fd8_row1_col4, #T_81fd8_row1_col5, #T_81fd8_row1_col6, #T_81fd8_row1_col7 {\n",
       "  background-color: #023858;\n",
       "  color: #f1f1f1;\n",
       "}\n",
       "#T_81fd8_row0_col1, #T_81fd8_row2_col3 {\n",
       "  background-color: #045788;\n",
       "  color: #f1f1f1;\n",
       "}\n",
       "#T_81fd8_row0_col3, #T_81fd8_row0_col4, #T_81fd8_row0_col5, #T_81fd8_row0_col6, #T_81fd8_row0_col7, #T_81fd8_row1_col0, #T_81fd8_row1_col2, #T_81fd8_row2_col1 {\n",
       "  background-color: #fff7fb;\n",
       "  color: #000000;\n",
       "}\n",
       "#T_81fd8_row2_col0 {\n",
       "  background-color: #fef6fb;\n",
       "  color: #000000;\n",
       "}\n",
       "#T_81fd8_row2_col2 {\n",
       "  background-color: #ede7f2;\n",
       "  color: #000000;\n",
       "}\n",
       "#T_81fd8_row2_col4 {\n",
       "  background-color: #046299;\n",
       "  color: #f1f1f1;\n",
       "}\n",
       "#T_81fd8_row2_col5 {\n",
       "  background-color: #045c90;\n",
       "  color: #f1f1f1;\n",
       "}\n",
       "#T_81fd8_row2_col6 {\n",
       "  background-color: #046097;\n",
       "  color: #f1f1f1;\n",
       "}\n",
       "#T_81fd8_row2_col7 {\n",
       "  background-color: #03517e;\n",
       "  color: #f1f1f1;\n",
       "}\n",
       "#T_81fd8_row3_col0 {\n",
       "  background-color: #69a5cc;\n",
       "  color: #f1f1f1;\n",
       "}\n",
       "#T_81fd8_row3_col1 {\n",
       "  background-color: #3b92c1;\n",
       "  color: #f1f1f1;\n",
       "}\n",
       "#T_81fd8_row3_col2 {\n",
       "  background-color: #d6d6e9;\n",
       "  color: #000000;\n",
       "}\n",
       "#T_81fd8_row3_col3 {\n",
       "  background-color: #0569a5;\n",
       "  color: #f1f1f1;\n",
       "}\n",
       "#T_81fd8_row3_col4 {\n",
       "  background-color: #4697c4;\n",
       "  color: #f1f1f1;\n",
       "}\n",
       "#T_81fd8_row3_col5 {\n",
       "  background-color: #2c89bd;\n",
       "  color: #f1f1f1;\n",
       "}\n",
       "#T_81fd8_row3_col6 {\n",
       "  background-color: #4496c3;\n",
       "  color: #f1f1f1;\n",
       "}\n",
       "#T_81fd8_row3_col7 {\n",
       "  background-color: #056faf;\n",
       "  color: #f1f1f1;\n",
       "}\n",
       "</style>\n",
       "<table id=\"T_81fd8\">\n",
       "  <thead>\n",
       "    <tr>\n",
       "      <th class=\"blank level0\" >&nbsp;</th>\n",
       "      <th id=\"T_81fd8_level0_col0\" class=\"col_heading level0 col0\" colspan=\"2\">age</th>\n",
       "      <th id=\"T_81fd8_level0_col2\" class=\"col_heading level0 col2\" colspan=\"2\">new_user</th>\n",
       "      <th id=\"T_81fd8_level0_col4\" class=\"col_heading level0 col4\" colspan=\"2\">page_visits</th>\n",
       "      <th id=\"T_81fd8_level0_col6\" class=\"col_heading level0 col6\" colspan=\"2\">converted</th>\n",
       "    </tr>\n",
       "    <tr>\n",
       "      <th class=\"blank level1\" >&nbsp;</th>\n",
       "      <th id=\"T_81fd8_level1_col0\" class=\"col_heading level1 col0\" >mean</th>\n",
       "      <th id=\"T_81fd8_level1_col1\" class=\"col_heading level1 col1\" >std</th>\n",
       "      <th id=\"T_81fd8_level1_col2\" class=\"col_heading level1 col2\" >mean</th>\n",
       "      <th id=\"T_81fd8_level1_col3\" class=\"col_heading level1 col3\" >std</th>\n",
       "      <th id=\"T_81fd8_level1_col4\" class=\"col_heading level1 col4\" >mean</th>\n",
       "      <th id=\"T_81fd8_level1_col5\" class=\"col_heading level1 col5\" >std</th>\n",
       "      <th id=\"T_81fd8_level1_col6\" class=\"col_heading level1 col6\" >mean</th>\n",
       "      <th id=\"T_81fd8_level1_col7\" class=\"col_heading level1 col7\" >std</th>\n",
       "    </tr>\n",
       "    <tr>\n",
       "      <th class=\"index_name level0\" >country</th>\n",
       "      <th class=\"blank col0\" >&nbsp;</th>\n",
       "      <th class=\"blank col1\" >&nbsp;</th>\n",
       "      <th class=\"blank col2\" >&nbsp;</th>\n",
       "      <th class=\"blank col3\" >&nbsp;</th>\n",
       "      <th class=\"blank col4\" >&nbsp;</th>\n",
       "      <th class=\"blank col5\" >&nbsp;</th>\n",
       "      <th class=\"blank col6\" >&nbsp;</th>\n",
       "      <th class=\"blank col7\" >&nbsp;</th>\n",
       "    </tr>\n",
       "  </thead>\n",
       "  <tbody>\n",
       "    <tr>\n",
       "      <th id=\"T_81fd8_level0_row0\" class=\"row_heading level0 row0\" >China</th>\n",
       "      <td id=\"T_81fd8_row0_col0\" class=\"data row0 col0\" >30.672972</td>\n",
       "      <td id=\"T_81fd8_row0_col1\" class=\"data row0 col1\" >8.283862</td>\n",
       "      <td id=\"T_81fd8_row0_col2\" class=\"data row0 col2\" >0.698520</td>\n",
       "      <td id=\"T_81fd8_row0_col3\" class=\"data row0 col3\" >0.458904</td>\n",
       "      <td id=\"T_81fd8_row0_col4\" class=\"data row0 col4\" >4.553523</td>\n",
       "      <td id=\"T_81fd8_row0_col5\" class=\"data row0 col5\" >2.804987</td>\n",
       "      <td id=\"T_81fd8_row0_col6\" class=\"data row0 col6\" >0.001332</td>\n",
       "      <td id=\"T_81fd8_row0_col7\" class=\"data row0 col7\" >0.036466</td>\n",
       "    </tr>\n",
       "    <tr>\n",
       "      <th id=\"T_81fd8_level0_row1\" class=\"row_heading level0 row1\" >Germany</th>\n",
       "      <td id=\"T_81fd8_row1_col0\" class=\"data row1 col0\" >30.449985</td>\n",
       "      <td id=\"T_81fd8_row1_col1\" class=\"data row1 col1\" >8.289022</td>\n",
       "      <td id=\"T_81fd8_row1_col2\" class=\"data row1 col2\" >0.677237</td>\n",
       "      <td id=\"T_81fd8_row1_col3\" class=\"data row1 col3\" >0.467551</td>\n",
       "      <td id=\"T_81fd8_row1_col4\" class=\"data row1 col4\" >5.190717</td>\n",
       "      <td id=\"T_81fd8_row1_col5\" class=\"data row1 col5\" >3.762899</td>\n",
       "      <td id=\"T_81fd8_row1_col6\" class=\"data row1 col6\" >0.062500</td>\n",
       "      <td id=\"T_81fd8_row1_col7\" class=\"data row1 col7\" >0.242071</td>\n",
       "    </tr>\n",
       "    <tr>\n",
       "      <th id=\"T_81fd8_level0_row2\" class=\"row_heading level0 row2\" >UK</th>\n",
       "      <td id=\"T_81fd8_row2_col0\" class=\"data row2 col0\" >30.451538</td>\n",
       "      <td id=\"T_81fd8_row2_col1\" class=\"data row2 col1\" >8.244991</td>\n",
       "      <td id=\"T_81fd8_row2_col2\" class=\"data row2 col2\" >0.679835</td>\n",
       "      <td id=\"T_81fd8_row2_col3\" class=\"data row2 col3\" >0.466545</td>\n",
       "      <td id=\"T_81fd8_row2_col4\" class=\"data row2 col4\" >5.082167</td>\n",
       "      <td id=\"T_81fd8_row2_col5\" class=\"data row2 col5\" >3.630763</td>\n",
       "      <td id=\"T_81fd8_row2_col6\" class=\"data row2 col6\" >0.052632</td>\n",
       "      <td id=\"T_81fd8_row2_col7\" class=\"data row2 col7\" >0.223299</td>\n",
       "    </tr>\n",
       "    <tr>\n",
       "      <th id=\"T_81fd8_level0_row3\" class=\"row_heading level0 row3\" >US</th>\n",
       "      <td id=\"T_81fd8_row3_col0\" class=\"data row3 col0\" >30.566482</td>\n",
       "      <td id=\"T_81fd8_row3_col1\" class=\"data row3 col1\" >8.272128</td>\n",
       "      <td id=\"T_81fd8_row3_col2\" class=\"data row3 col2\" >0.681985</td>\n",
       "      <td id=\"T_81fd8_row3_col3\" class=\"data row3 col3\" >0.465707</td>\n",
       "      <td id=\"T_81fd8_row3_col4\" class=\"data row3 col4\" >4.930160</td>\n",
       "      <td id=\"T_81fd8_row3_col5\" class=\"data row3 col5\" >3.427085</td>\n",
       "      <td id=\"T_81fd8_row3_col6\" class=\"data row3 col6\" >0.037801</td>\n",
       "      <td id=\"T_81fd8_row3_col7\" class=\"data row3 col7\" >0.190714</td>\n",
       "    </tr>\n",
       "  </tbody>\n",
       "</table>\n"
      ],
      "text/plain": [
       "<pandas.io.formats.style.Styler at 0x24dbd4a2120>"
      ]
     },
     "execution_count": 92,
     "metadata": {},
     "output_type": "execute_result"
    }
   ],
   "source": [
    "# Comparison of Average and Std. Deviation of Age, New User, Page Visits and Conversion by Country\n",
    "df_edit.groupby(['country'])[['age','new_user','page_visits','converted']].agg(['mean','std']).style.background_gradient()"
   ]
  },
  {
   "cell_type": "code",
   "execution_count": 95,
   "id": "438347a9",
   "metadata": {},
   "outputs": [
    {
     "data": {
      "text/plain": [
       "country\n",
       "US         178092\n",
       "China       76602\n",
       "UK          48450\n",
       "Germany     13056\n",
       "Name: count, dtype: int64"
      ]
     },
     "execution_count": 95,
     "metadata": {},
     "output_type": "execute_result"
    }
   ],
   "source": [
    "df_edit['country'].value_counts()"
   ]
  },
  {
   "cell_type": "markdown",
   "id": "967c60bd",
   "metadata": {},
   "source": [
    "*Observations*:\n",
    "- Average age and distribution of website visitors is comparable across the 4 markets.\n",
    "- *China*: Has highest %age of new users (69.85%), but the lowest conversion ratio ~1% and avg. page visits. They also have the second highest no. of sessions after US, so it might have a lot of potential and might be worth looking into. \n",
    "- *Germany*: Has lowest %age of new users (67.72%), but highest on avg. page visits and conversion ratio (~6.25%). It seems users are interested, but the low total no. of sessions suggest it might take some time to gather significance compared to other markets."
   ]
  },
  {
   "cell_type": "code",
   "execution_count": 121,
   "id": "2071306e",
   "metadata": {},
   "outputs": [
    {
     "data": {
      "text/html": [
       "<div>\n",
       "<style scoped>\n",
       "    .dataframe tbody tr th:only-of-type {\n",
       "        vertical-align: middle;\n",
       "    }\n",
       "\n",
       "    .dataframe tbody tr th {\n",
       "        vertical-align: top;\n",
       "    }\n",
       "\n",
       "    .dataframe thead th {\n",
       "        text-align: right;\n",
       "    }\n",
       "</style>\n",
       "<table border=\"1\" class=\"dataframe\">\n",
       "  <thead>\n",
       "    <tr style=\"text-align: right;\">\n",
       "      <th>channel</th>\n",
       "      <th>Ads</th>\n",
       "      <th>Direct</th>\n",
       "      <th>Seo</th>\n",
       "      <th>Ads_Cum</th>\n",
       "      <th>Direct_Cum</th>\n",
       "      <th>Seo_Cum</th>\n",
       "    </tr>\n",
       "    <tr>\n",
       "      <th>country</th>\n",
       "      <th></th>\n",
       "      <th></th>\n",
       "      <th></th>\n",
       "      <th></th>\n",
       "      <th></th>\n",
       "      <th></th>\n",
       "    </tr>\n",
       "  </thead>\n",
       "  <tbody>\n",
       "    <tr>\n",
       "      <th>China</th>\n",
       "      <td>21561</td>\n",
       "      <td>17463</td>\n",
       "      <td>37578</td>\n",
       "      <td>24.30</td>\n",
       "      <td>24.11</td>\n",
       "      <td>24.24</td>\n",
       "    </tr>\n",
       "    <tr>\n",
       "      <th>Germany</th>\n",
       "      <td>3760</td>\n",
       "      <td>2864</td>\n",
       "      <td>6432</td>\n",
       "      <td>4.24</td>\n",
       "      <td>3.95</td>\n",
       "      <td>4.15</td>\n",
       "    </tr>\n",
       "    <tr>\n",
       "      <th>UK</th>\n",
       "      <td>13518</td>\n",
       "      <td>11131</td>\n",
       "      <td>23801</td>\n",
       "      <td>15.23</td>\n",
       "      <td>15.37</td>\n",
       "      <td>15.35</td>\n",
       "    </tr>\n",
       "    <tr>\n",
       "      <th>US</th>\n",
       "      <td>49901</td>\n",
       "      <td>40962</td>\n",
       "      <td>87229</td>\n",
       "      <td>56.23</td>\n",
       "      <td>56.56</td>\n",
       "      <td>56.26</td>\n",
       "    </tr>\n",
       "  </tbody>\n",
       "</table>\n",
       "</div>"
      ],
      "text/plain": [
       "channel    Ads  Direct    Seo  Ads_Cum  Direct_Cum  Seo_Cum\n",
       "country                                                    \n",
       "China    21561   17463  37578    24.30       24.11    24.24\n",
       "Germany   3760    2864   6432     4.24        3.95     4.15\n",
       "UK       13518   11131  23801    15.23       15.37    15.35\n",
       "US       49901   40962  87229    56.23       56.56    56.26"
      ]
     },
     "execution_count": 121,
     "metadata": {},
     "output_type": "execute_result"
    }
   ],
   "source": [
    "# Comparison of Sessions via Channels by Country\n",
    "ctrychan_pivot= df_edit.pivot_table(index= 'country', columns= 'channel', aggfunc= 'size', fill_value= 0)\n",
    "ctrychan_pivot['Ads_Cum'] = round((ctrychan_pivot['Ads']/ctrychan_pivot['Ads'].sum())*100,2)\n",
    "ctrychan_pivot['Direct_Cum'] = round((ctrychan_pivot['Direct']/ctrychan_pivot['Direct'].sum())*100,2)\n",
    "ctrychan_pivot['Seo_Cum'] = round((ctrychan_pivot['Seo']/ctrychan_pivot['Seo'].sum())*100,2)\n",
    "ctrychan_pivot"
   ]
  },
  {
   "cell_type": "markdown",
   "id": "93544a32",
   "metadata": {},
   "source": [
    "- The 3 columns 'Ads_Cum', 'Direct_Cum' and 'Seo_Cum' represent the cumulative percentage of channel via which the session was reached from a particular country.\n",
    "- There is no significant variance in distribution among the 3 countries, and regardless of the market, most sessions (~56%) are coming "
   ]
  },
  {
   "cell_type": "markdown",
   "id": "127a8dd1",
   "metadata": {},
   "source": [
    "##### Comparison by Age"
   ]
  },
  {
   "cell_type": "markdown",
   "id": "420ecec0",
   "metadata": {},
   "source": [
    "    - Age/New User, Source, Page Visits\n",
    "    - New User/Source, Page visits\n",
    "    - Source/Page Visits"
   ]
  },
  {
   "cell_type": "markdown",
   "id": "3f086b35",
   "metadata": {},
   "source": [
    "### Statistical Testing\n",
    "We'll follow the workflow below:\n",
    "- Impact on Conversion by Country, Marketing Channel, New User (*Chi-Square Goodness of Fit*,*Two Sample Test of Proportion*)\n",
    "- *Chi-Square Test for Independence*\n",
    "    - Does Conversion for a Country get impacted by Marketing Channel, New User\n",
    "    - Does Conversion for a Mktg. Channel get impacted by Country, New User\n",
    "    - Does Conversion for a New User get impacted by Mktg. Channel, New User\n",
    "- A/B Testing Simulation\n",
    "    - Add variable for new page vs. old page (fictional)\n",
    "    - Two sample test of Mean for performance of new v.s. old page"
   ]
  },
  {
   "cell_type": "markdown",
   "id": "81a7de3c",
   "metadata": {},
   "source": [
    "### Develop Machine Learning Classification Model\n",
    "We'll follow the workflow below:\n",
    "- Identify relevant variables for modeling based on Stats Testing.\n",
    "- Design classification models using:\n",
    "    - Logistic Regression\n",
    "    - Naive Bayes\n",
    "    - Random Forest with Cross Validation\n",
    "    - XGBoost with Cross Validation\n",
    "- Model Tuning and EDA\n",
    "\n",
    "\n"
   ]
  },
  {
   "cell_type": "markdown",
   "id": "f2a30395",
   "metadata": {},
   "source": [
    "### Final Assessment, Summary and Recommendations"
   ]
  }
 ],
 "metadata": {
  "kernelspec": {
   "display_name": "Python 3",
   "language": "python",
   "name": "python3"
  },
  "language_info": {
   "codemirror_mode": {
    "name": "ipython",
    "version": 3
   },
   "file_extension": ".py",
   "mimetype": "text/x-python",
   "name": "python",
   "nbconvert_exporter": "python",
   "pygments_lexer": "ipython3",
   "version": "3.13.5"
  }
 },
 "nbformat": 4,
 "nbformat_minor": 5
}
