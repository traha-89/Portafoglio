{
 "cells": [
  {
   "cell_type": "markdown",
   "id": "1575bc91",
   "metadata": {},
   "source": [
    "## Website Landing Page EDA, Statistical Analysis and Conversion Prediction"
   ]
  },
  {
   "cell_type": "markdown",
   "id": "a30f129f",
   "metadata": {},
   "source": [
    "### Description of data  \n",
    "Source Dataset: https://github.com/jainds/eda-for-conversion-rate-dataset/tree/master  \n",
    "\n",
    "- \"conversion_data\" - information about signed-in users during one session. Each row is a user session.\n",
    "- *country* : user country based on the IP address\n",
    "- *age* : user age. Self-reported at sign-in step\n",
    "- *new_user* : whether the user created the account during this session or had already an account and simply came back to the site\n",
    "- *source* : marketing channel source\n",
    "    - *Ads*: came to the site by clicking on an advertisement\n",
    "    - *Seo*: came to the site by clicking on search results\n",
    "    - *Direct*: came to the site by directly typing the URL on the browser\n",
    "- *total_pages_visited*: number of total pages visited during the session (proxy for time spent on site and engagement during the session).\n",
    "- *converted*: this is our label. 1 means they converted within the session, 0 means they left without buying anything."
   ]
  },
  {
   "cell_type": "markdown",
   "id": "be81ef8a",
   "metadata": {},
   "source": [
    "### Objective\n",
    "- Conduct an Exploratory Data Analysis (Data cleaning & prep, Uni/Bivariate Analysis, Conversion Rate Analysis)\n",
    "- Statistical Testing to assess variables impacting Conversion Rate, Relationships among Variables \n",
    "- A/B Testing to assess impact of change in Landing Page (using artifically generated experiment vs. control group data)\n",
    "- Development of an ML Classification model to predict Conversion of User, achieving at least 85% F1 Score.\n"
   ]
  },
  {
   "cell_type": "markdown",
   "id": "42acd56a",
   "metadata": {},
   "source": [
    "### Initiation"
   ]
  },
  {
   "cell_type": "code",
   "execution_count": 136,
   "id": "a8974b50",
   "metadata": {},
   "outputs": [],
   "source": [
    "# Import libraries\n",
    "\n",
    "# Basic Data Imports\n",
    "import numpy as np\n",
    "import pandas as pd\n",
    "import datetime as dt \n",
    "\n",
    "# Imports for visualization\n",
    "import matplotlib.pyplot as plt\n",
    "import seaborn as sns\n",
    "import plotly.express as px\n",
    "\n",
    "# Imports for stats\n",
    "from statsmodels.stats.proportion import proportions_ztest\n",
    "from scipy.stats import binom, chi2_contingency, levene, ttest_ind, mannwhitneyu, anderson\n",
    "\n",
    "# Imports for Classification modeling\n",
    "from sklearn.model_selection import train_test_split\n"
   ]
  },
  {
   "cell_type": "code",
   "execution_count": 94,
   "id": "df297085",
   "metadata": {},
   "outputs": [
    {
     "data": {
      "text/html": [
       "<div>\n",
       "<style scoped>\n",
       "    .dataframe tbody tr th:only-of-type {\n",
       "        vertical-align: middle;\n",
       "    }\n",
       "\n",
       "    .dataframe tbody tr th {\n",
       "        vertical-align: top;\n",
       "    }\n",
       "\n",
       "    .dataframe thead th {\n",
       "        text-align: right;\n",
       "    }\n",
       "</style>\n",
       "<table border=\"1\" class=\"dataframe\">\n",
       "  <thead>\n",
       "    <tr style=\"text-align: right;\">\n",
       "      <th></th>\n",
       "      <th>country</th>\n",
       "      <th>age</th>\n",
       "      <th>new_user</th>\n",
       "      <th>source</th>\n",
       "      <th>total_pages_visited</th>\n",
       "      <th>converted</th>\n",
       "    </tr>\n",
       "  </thead>\n",
       "  <tbody>\n",
       "    <tr>\n",
       "      <th>0</th>\n",
       "      <td>UK</td>\n",
       "      <td>25</td>\n",
       "      <td>1</td>\n",
       "      <td>Ads</td>\n",
       "      <td>1</td>\n",
       "      <td>0</td>\n",
       "    </tr>\n",
       "    <tr>\n",
       "      <th>1</th>\n",
       "      <td>US</td>\n",
       "      <td>23</td>\n",
       "      <td>1</td>\n",
       "      <td>Seo</td>\n",
       "      <td>5</td>\n",
       "      <td>0</td>\n",
       "    </tr>\n",
       "    <tr>\n",
       "      <th>2</th>\n",
       "      <td>US</td>\n",
       "      <td>28</td>\n",
       "      <td>1</td>\n",
       "      <td>Seo</td>\n",
       "      <td>4</td>\n",
       "      <td>0</td>\n",
       "    </tr>\n",
       "    <tr>\n",
       "      <th>3</th>\n",
       "      <td>China</td>\n",
       "      <td>39</td>\n",
       "      <td>1</td>\n",
       "      <td>Seo</td>\n",
       "      <td>5</td>\n",
       "      <td>0</td>\n",
       "    </tr>\n",
       "    <tr>\n",
       "      <th>4</th>\n",
       "      <td>US</td>\n",
       "      <td>30</td>\n",
       "      <td>1</td>\n",
       "      <td>Seo</td>\n",
       "      <td>6</td>\n",
       "      <td>0</td>\n",
       "    </tr>\n",
       "  </tbody>\n",
       "</table>\n",
       "</div>"
      ],
      "text/plain": [
       "  country  age  new_user source  total_pages_visited  converted\n",
       "0      UK   25         1    Ads                    1          0\n",
       "1      US   23         1    Seo                    5          0\n",
       "2      US   28         1    Seo                    4          0\n",
       "3   China   39         1    Seo                    5          0\n",
       "4      US   30         1    Seo                    6          0"
      ]
     },
     "execution_count": 94,
     "metadata": {},
     "output_type": "execute_result"
    }
   ],
   "source": [
    "# Import dataset\n",
    "\n",
    "df_original= pd.read_csv('data/conversion_data.csv')\n",
    "df_original.head()"
   ]
  },
  {
   "cell_type": "code",
   "execution_count": 95,
   "id": "988bc255",
   "metadata": {},
   "outputs": [
    {
     "name": "stdout",
     "output_type": "stream",
     "text": [
      "<class 'pandas.core.frame.DataFrame'>\n",
      "RangeIndex: 316200 entries, 0 to 316199\n",
      "Data columns (total 6 columns):\n",
      " #   Column               Non-Null Count   Dtype \n",
      "---  ------               --------------   ----- \n",
      " 0   country              316200 non-null  object\n",
      " 1   age                  316200 non-null  int64 \n",
      " 2   new_user             316200 non-null  int64 \n",
      " 3   source               316200 non-null  object\n",
      " 4   total_pages_visited  316200 non-null  int64 \n",
      " 5   converted            316200 non-null  int64 \n",
      "dtypes: int64(4), object(2)\n",
      "memory usage: 14.5+ MB\n"
     ]
    }
   ],
   "source": [
    "df_original.info()"
   ]
  },
  {
   "cell_type": "markdown",
   "id": "76b9d58e",
   "metadata": {},
   "source": [
    "- Total 316,200 records, none of the columns have null values.\n",
    "- No changes needed in data type."
   ]
  },
  {
   "cell_type": "code",
   "execution_count": 96,
   "id": "8ade66bb",
   "metadata": {},
   "outputs": [
    {
     "data": {
      "text/html": [
       "<div>\n",
       "<style scoped>\n",
       "    .dataframe tbody tr th:only-of-type {\n",
       "        vertical-align: middle;\n",
       "    }\n",
       "\n",
       "    .dataframe tbody tr th {\n",
       "        vertical-align: top;\n",
       "    }\n",
       "\n",
       "    .dataframe thead th {\n",
       "        text-align: right;\n",
       "    }\n",
       "</style>\n",
       "<table border=\"1\" class=\"dataframe\">\n",
       "  <thead>\n",
       "    <tr style=\"text-align: right;\">\n",
       "      <th></th>\n",
       "      <th>country</th>\n",
       "      <th>age</th>\n",
       "      <th>new_user</th>\n",
       "      <th>source</th>\n",
       "      <th>total_pages_visited</th>\n",
       "      <th>converted</th>\n",
       "    </tr>\n",
       "  </thead>\n",
       "  <tbody>\n",
       "    <tr>\n",
       "      <th>count</th>\n",
       "      <td>316200</td>\n",
       "      <td>316200.000000</td>\n",
       "      <td>316200.000000</td>\n",
       "      <td>316200</td>\n",
       "      <td>316200.000000</td>\n",
       "      <td>316200.000000</td>\n",
       "    </tr>\n",
       "    <tr>\n",
       "      <th>unique</th>\n",
       "      <td>4</td>\n",
       "      <td>NaN</td>\n",
       "      <td>NaN</td>\n",
       "      <td>3</td>\n",
       "      <td>NaN</td>\n",
       "      <td>NaN</td>\n",
       "    </tr>\n",
       "    <tr>\n",
       "      <th>top</th>\n",
       "      <td>US</td>\n",
       "      <td>NaN</td>\n",
       "      <td>NaN</td>\n",
       "      <td>Seo</td>\n",
       "      <td>NaN</td>\n",
       "      <td>NaN</td>\n",
       "    </tr>\n",
       "    <tr>\n",
       "      <th>freq</th>\n",
       "      <td>178092</td>\n",
       "      <td>NaN</td>\n",
       "      <td>NaN</td>\n",
       "      <td>155040</td>\n",
       "      <td>NaN</td>\n",
       "      <td>NaN</td>\n",
       "    </tr>\n",
       "    <tr>\n",
       "      <th>mean</th>\n",
       "      <td>NaN</td>\n",
       "      <td>30.569858</td>\n",
       "      <td>0.685465</td>\n",
       "      <td>NaN</td>\n",
       "      <td>4.872966</td>\n",
       "      <td>0.032258</td>\n",
       "    </tr>\n",
       "    <tr>\n",
       "      <th>std</th>\n",
       "      <td>NaN</td>\n",
       "      <td>8.271802</td>\n",
       "      <td>0.464331</td>\n",
       "      <td>NaN</td>\n",
       "      <td>3.341104</td>\n",
       "      <td>0.176685</td>\n",
       "    </tr>\n",
       "    <tr>\n",
       "      <th>min</th>\n",
       "      <td>NaN</td>\n",
       "      <td>17.000000</td>\n",
       "      <td>0.000000</td>\n",
       "      <td>NaN</td>\n",
       "      <td>1.000000</td>\n",
       "      <td>0.000000</td>\n",
       "    </tr>\n",
       "    <tr>\n",
       "      <th>25%</th>\n",
       "      <td>NaN</td>\n",
       "      <td>24.000000</td>\n",
       "      <td>0.000000</td>\n",
       "      <td>NaN</td>\n",
       "      <td>2.000000</td>\n",
       "      <td>0.000000</td>\n",
       "    </tr>\n",
       "    <tr>\n",
       "      <th>50%</th>\n",
       "      <td>NaN</td>\n",
       "      <td>30.000000</td>\n",
       "      <td>1.000000</td>\n",
       "      <td>NaN</td>\n",
       "      <td>4.000000</td>\n",
       "      <td>0.000000</td>\n",
       "    </tr>\n",
       "    <tr>\n",
       "      <th>75%</th>\n",
       "      <td>NaN</td>\n",
       "      <td>36.000000</td>\n",
       "      <td>1.000000</td>\n",
       "      <td>NaN</td>\n",
       "      <td>7.000000</td>\n",
       "      <td>0.000000</td>\n",
       "    </tr>\n",
       "    <tr>\n",
       "      <th>max</th>\n",
       "      <td>NaN</td>\n",
       "      <td>123.000000</td>\n",
       "      <td>1.000000</td>\n",
       "      <td>NaN</td>\n",
       "      <td>29.000000</td>\n",
       "      <td>1.000000</td>\n",
       "    </tr>\n",
       "  </tbody>\n",
       "</table>\n",
       "</div>"
      ],
      "text/plain": [
       "       country            age       new_user  source  total_pages_visited  \\\n",
       "count   316200  316200.000000  316200.000000  316200        316200.000000   \n",
       "unique       4            NaN            NaN       3                  NaN   \n",
       "top         US            NaN            NaN     Seo                  NaN   \n",
       "freq    178092            NaN            NaN  155040                  NaN   \n",
       "mean       NaN      30.569858       0.685465     NaN             4.872966   \n",
       "std        NaN       8.271802       0.464331     NaN             3.341104   \n",
       "min        NaN      17.000000       0.000000     NaN             1.000000   \n",
       "25%        NaN      24.000000       0.000000     NaN             2.000000   \n",
       "50%        NaN      30.000000       1.000000     NaN             4.000000   \n",
       "75%        NaN      36.000000       1.000000     NaN             7.000000   \n",
       "max        NaN     123.000000       1.000000     NaN            29.000000   \n",
       "\n",
       "            converted  \n",
       "count   316200.000000  \n",
       "unique            NaN  \n",
       "top               NaN  \n",
       "freq              NaN  \n",
       "mean         0.032258  \n",
       "std          0.176685  \n",
       "min          0.000000  \n",
       "25%          0.000000  \n",
       "50%          0.000000  \n",
       "75%          0.000000  \n",
       "max          1.000000  "
      ]
     },
     "execution_count": 96,
     "metadata": {},
     "output_type": "execute_result"
    }
   ],
   "source": [
    "df_original.describe(include= 'all')"
   ]
  },
  {
   "cell_type": "markdown",
   "id": "b95f975e",
   "metadata": {},
   "source": [
    "Initial Observations:\n",
    "- Our dataset is derived from 4 countries, with most of the data being from US (more than 50%).\n",
    "- Average age of visitors is ~ 31 years. Maximum age is 123 years, which looks like an outlier. Will check for outlying values.\n",
    "- *new_user* being 1 implies they created an account when they visited the website in that instance. Average value of 0.68 indicates generally we might have more new users than old users.\n",
    "- We have 3 channels identified as source (already defined in data description). ~50% of the visitors are coming from search results, and are in majority.\n",
    "- Average page visits by users = 4.87. Maximum page visits by a user in a session is 29.\n",
    "- *converted* would imply sale/conversion in that particular record/session. Average value of 0.0322 implies about 3.22% aggregate conversion rate. \n"
   ]
  },
  {
   "cell_type": "code",
   "execution_count": 97,
   "id": "e0728328",
   "metadata": {},
   "outputs": [
    {
     "name": "stdout",
     "output_type": "stream",
     "text": [
      "<class 'pandas.core.frame.DataFrame'>\n",
      "RangeIndex: 316200 entries, 0 to 316199\n",
      "Data columns (total 6 columns):\n",
      " #   Column               Non-Null Count   Dtype   \n",
      "---  ------               --------------   -----   \n",
      " 0   country              316200 non-null  category\n",
      " 1   age                  316200 non-null  int64   \n",
      " 2   new_user             316200 non-null  category\n",
      " 3   source               316200 non-null  category\n",
      " 4   total_pages_visited  316200 non-null  int64   \n",
      " 5   converted            316200 non-null  int64   \n",
      "dtypes: category(3), int64(3)\n",
      "memory usage: 8.1 MB\n"
     ]
    }
   ],
   "source": [
    "# Convert String columns as Categorical\n",
    "cols = ['country', 'source','new_user']\n",
    "df_original[cols] = df_original[cols].astype('category')\n",
    "\n",
    "df_original.info()"
   ]
  },
  {
   "cell_type": "markdown",
   "id": "54040d84",
   "metadata": {},
   "source": [
    "### Exploratory Data Analysis (EDA)\n",
    "We'll follow the workflow below:\n",
    "- Data Cleaning & Preparation, Check for missing values, duplicates and outliers.\n",
    "- *Univariate Analysis*: \n",
    "    - Examine distributions of numerical variables (histograms for age, pages visited, etc.).\n",
    "    - Review frequency counts for categorical variables (country, acquisition channel).\n",
    "- *Bivariate Analysis*:\n",
    "    - %age conversion by Country\n",
    "    - Distribution of age comparison (converted vs. non-converted)\n",
    "    - Distribution of new user vs. conversion\n",
    "    - Distribution of page visits comparison (converted vs. non-converted)\n",
    "- *Deriving Conversion Rate*:\n",
    "    - Calculate Agg. Conversion Rate (No. of Conversions/Total Sessions)\n",
    "    - *Segmented rates*: conversion rates by category (e.g., by country, device type)."
   ]
  },
  {
   "cell_type": "markdown",
   "id": "ebe55b1f",
   "metadata": {},
   "source": [
    "#### Data Cleaning"
   ]
  },
  {
   "cell_type": "code",
   "execution_count": 98,
   "id": "00155144",
   "metadata": {},
   "outputs": [
    {
     "data": {
      "text/html": [
       "<div>\n",
       "<style scoped>\n",
       "    .dataframe tbody tr th:only-of-type {\n",
       "        vertical-align: middle;\n",
       "    }\n",
       "\n",
       "    .dataframe tbody tr th {\n",
       "        vertical-align: top;\n",
       "    }\n",
       "\n",
       "    .dataframe thead th {\n",
       "        text-align: right;\n",
       "    }\n",
       "</style>\n",
       "<table border=\"1\" class=\"dataframe\">\n",
       "  <thead>\n",
       "    <tr style=\"text-align: right;\">\n",
       "      <th></th>\n",
       "      <th>country</th>\n",
       "      <th>age</th>\n",
       "      <th>new_user</th>\n",
       "      <th>source</th>\n",
       "      <th>total_pages_visited</th>\n",
       "      <th>converted</th>\n",
       "    </tr>\n",
       "  </thead>\n",
       "  <tbody>\n",
       "    <tr>\n",
       "      <th>0</th>\n",
       "      <td>UK</td>\n",
       "      <td>25</td>\n",
       "      <td>1</td>\n",
       "      <td>Ads</td>\n",
       "      <td>1</td>\n",
       "      <td>0</td>\n",
       "    </tr>\n",
       "    <tr>\n",
       "      <th>1</th>\n",
       "      <td>US</td>\n",
       "      <td>23</td>\n",
       "      <td>1</td>\n",
       "      <td>Seo</td>\n",
       "      <td>5</td>\n",
       "      <td>0</td>\n",
       "    </tr>\n",
       "    <tr>\n",
       "      <th>2</th>\n",
       "      <td>US</td>\n",
       "      <td>28</td>\n",
       "      <td>1</td>\n",
       "      <td>Seo</td>\n",
       "      <td>4</td>\n",
       "      <td>0</td>\n",
       "    </tr>\n",
       "    <tr>\n",
       "      <th>3</th>\n",
       "      <td>China</td>\n",
       "      <td>39</td>\n",
       "      <td>1</td>\n",
       "      <td>Seo</td>\n",
       "      <td>5</td>\n",
       "      <td>0</td>\n",
       "    </tr>\n",
       "    <tr>\n",
       "      <th>4</th>\n",
       "      <td>US</td>\n",
       "      <td>30</td>\n",
       "      <td>1</td>\n",
       "      <td>Seo</td>\n",
       "      <td>6</td>\n",
       "      <td>0</td>\n",
       "    </tr>\n",
       "  </tbody>\n",
       "</table>\n",
       "</div>"
      ],
      "text/plain": [
       "  country  age new_user source  total_pages_visited  converted\n",
       "0      UK   25        1    Ads                    1          0\n",
       "1      US   23        1    Seo                    5          0\n",
       "2      US   28        1    Seo                    4          0\n",
       "3   China   39        1    Seo                    5          0\n",
       "4      US   30        1    Seo                    6          0"
      ]
     },
     "execution_count": 98,
     "metadata": {},
     "output_type": "execute_result"
    }
   ],
   "source": [
    "# Already checked in DF info that we don't have null values.\n",
    "# Checking for duplicates\n",
    "\n",
    "df_original.head()"
   ]
  },
  {
   "cell_type": "markdown",
   "id": "b289a9ca",
   "metadata": {},
   "source": [
    "As the variables contain information about the demographic, marketing channel and general stats, there are likely to be duplications, considering we don't have any Personal Information to differentiate user session by any identity or specific location/time etc.  \n",
    "\n",
    "Hence in this case, we will not be removing any duplicate records. We have already reviewed under the dataframe info that none of the columns have missing values."
   ]
  },
  {
   "cell_type": "code",
   "execution_count": 99,
   "id": "4b5cdef8",
   "metadata": {},
   "outputs": [
    {
     "data": {
      "text/plain": [
       "country                0\n",
       "age                    0\n",
       "new_user               0\n",
       "source                 0\n",
       "total_pages_visited    0\n",
       "converted              0\n",
       "dtype: int64"
      ]
     },
     "execution_count": 99,
     "metadata": {},
     "output_type": "execute_result"
    }
   ],
   "source": [
    "df_original.isna().sum()"
   ]
  },
  {
   "cell_type": "code",
   "execution_count": 100,
   "id": "9a40f7c7",
   "metadata": {},
   "outputs": [
    {
     "data": {
      "image/png": "[encoded data removed]",
      "text/plain": [
       "<Figure size 1500x500 with 2 Axes>"
      ]
     },
     "metadata": {},
     "output_type": "display_data"
    }
   ],
   "source": [
    "# Plotting boxplot to assess outliers in continuous variables age and total_pages_visited \n",
    "fig, axes = plt.subplots(1,2, figsize= (15,5))\n",
    "ax1= sns.boxplot(df_original['age'],ax= axes[0])\n",
    "ax1.set_title('Boxplot of Age')\n",
    "\n",
    "ax2= sns.boxplot(df_original['total_pages_visited'],ax= axes[1])\n",
    "ax2.set_title('Boxplot of total_pages_visited')\n",
    "\n",
    "plt.show()"
   ]
  },
  {
   "cell_type": "markdown",
   "id": "ffbea4b0",
   "metadata": {},
   "source": [
    "- 'Age' has quite a few extreme outliers. We also have values greater than 100, which we'll look into. Outliers might need to be dealt with for some modeling uses.\n",
    "- 'total_pages_visited' is less skewed and there are some outlying values.\n",
    "- We'll consider necessary action based on future needs."
   ]
  },
  {
   "cell_type": "code",
   "execution_count": 101,
   "id": "c7cf42b0",
   "metadata": {},
   "outputs": [
    {
     "data": {
      "text/html": [
       "<div>\n",
       "<style scoped>\n",
       "    .dataframe tbody tr th:only-of-type {\n",
       "        vertical-align: middle;\n",
       "    }\n",
       "\n",
       "    .dataframe tbody tr th {\n",
       "        vertical-align: top;\n",
       "    }\n",
       "\n",
       "    .dataframe thead th {\n",
       "        text-align: right;\n",
       "    }\n",
       "</style>\n",
       "<table border=\"1\" class=\"dataframe\">\n",
       "  <thead>\n",
       "    <tr style=\"text-align: right;\">\n",
       "      <th></th>\n",
       "      <th>country</th>\n",
       "      <th>age</th>\n",
       "      <th>new_user</th>\n",
       "      <th>source</th>\n",
       "      <th>total_pages_visited</th>\n",
       "      <th>converted</th>\n",
       "    </tr>\n",
       "  </thead>\n",
       "  <tbody>\n",
       "    <tr>\n",
       "      <th>90928</th>\n",
       "      <td>Germany</td>\n",
       "      <td>123</td>\n",
       "      <td>0</td>\n",
       "      <td>Seo</td>\n",
       "      <td>15</td>\n",
       "      <td>1</td>\n",
       "    </tr>\n",
       "    <tr>\n",
       "      <th>295581</th>\n",
       "      <td>UK</td>\n",
       "      <td>111</td>\n",
       "      <td>0</td>\n",
       "      <td>Ads</td>\n",
       "      <td>10</td>\n",
       "      <td>1</td>\n",
       "    </tr>\n",
       "  </tbody>\n",
       "</table>\n",
       "</div>"
      ],
      "text/plain": [
       "        country  age new_user source  total_pages_visited  converted\n",
       "90928   Germany  123        0    Seo                   15          1\n",
       "295581       UK  111        0    Ads                   10          1"
      ]
     },
     "execution_count": 101,
     "metadata": {},
     "output_type": "execute_result"
    }
   ],
   "source": [
    "df_original[df_original['age'] >100]"
   ]
  },
  {
   "cell_type": "code",
   "execution_count": 102,
   "id": "d503b8b8",
   "metadata": {},
   "outputs": [
    {
     "data": {
      "text/html": [
       "<div>\n",
       "<style scoped>\n",
       "    .dataframe tbody tr th:only-of-type {\n",
       "        vertical-align: middle;\n",
       "    }\n",
       "\n",
       "    .dataframe tbody tr th {\n",
       "        vertical-align: top;\n",
       "    }\n",
       "\n",
       "    .dataframe thead th {\n",
       "        text-align: right;\n",
       "    }\n",
       "</style>\n",
       "<table border=\"1\" class=\"dataframe\">\n",
       "  <thead>\n",
       "    <tr style=\"text-align: right;\">\n",
       "      <th></th>\n",
       "      <th>country</th>\n",
       "      <th>age</th>\n",
       "      <th>new_user</th>\n",
       "      <th>source</th>\n",
       "      <th>total_pages_visited</th>\n",
       "      <th>converted</th>\n",
       "    </tr>\n",
       "  </thead>\n",
       "  <tbody>\n",
       "    <tr>\n",
       "      <th>90928</th>\n",
       "      <td>Germany</td>\n",
       "      <td>123</td>\n",
       "      <td>0</td>\n",
       "      <td>Seo</td>\n",
       "      <td>15</td>\n",
       "      <td>1</td>\n",
       "    </tr>\n",
       "    <tr>\n",
       "      <th>295581</th>\n",
       "      <td>UK</td>\n",
       "      <td>111</td>\n",
       "      <td>0</td>\n",
       "      <td>Ads</td>\n",
       "      <td>10</td>\n",
       "      <td>1</td>\n",
       "    </tr>\n",
       "    <tr>\n",
       "      <th>265167</th>\n",
       "      <td>US</td>\n",
       "      <td>79</td>\n",
       "      <td>1</td>\n",
       "      <td>Direct</td>\n",
       "      <td>1</td>\n",
       "      <td>0</td>\n",
       "    </tr>\n",
       "    <tr>\n",
       "      <th>192644</th>\n",
       "      <td>US</td>\n",
       "      <td>77</td>\n",
       "      <td>0</td>\n",
       "      <td>Direct</td>\n",
       "      <td>4</td>\n",
       "      <td>0</td>\n",
       "    </tr>\n",
       "    <tr>\n",
       "      <th>154217</th>\n",
       "      <td>US</td>\n",
       "      <td>73</td>\n",
       "      <td>1</td>\n",
       "      <td>Seo</td>\n",
       "      <td>5</td>\n",
       "      <td>0</td>\n",
       "    </tr>\n",
       "  </tbody>\n",
       "</table>\n",
       "</div>"
      ],
      "text/plain": [
       "        country  age new_user  source  total_pages_visited  converted\n",
       "90928   Germany  123        0     Seo                   15          1\n",
       "295581       UK  111        0     Ads                   10          1\n",
       "265167       US   79        1  Direct                    1          0\n",
       "192644       US   77        0  Direct                    4          0\n",
       "154217       US   73        1     Seo                    5          0"
      ]
     },
     "execution_count": 102,
     "metadata": {},
     "output_type": "execute_result"
    }
   ],
   "source": [
    "df_original.sort_values(by= ['age'], ascending= False).head()"
   ]
  },
  {
   "cell_type": "markdown",
   "id": "1a1bad49",
   "metadata": {},
   "source": [
    "There are 2 sessions, wherein the visitor age is above 100, which seems an erroneous value. As these are just 2 session records, we'll leave them as it is, given it wouldn't impact much."
   ]
  },
  {
   "cell_type": "code",
   "execution_count": 103,
   "id": "d6e27957",
   "metadata": {},
   "outputs": [
    {
     "data": {
      "text/html": [
       "<div>\n",
       "<style scoped>\n",
       "    .dataframe tbody tr th:only-of-type {\n",
       "        vertical-align: middle;\n",
       "    }\n",
       "\n",
       "    .dataframe tbody tr th {\n",
       "        vertical-align: top;\n",
       "    }\n",
       "\n",
       "    .dataframe thead th {\n",
       "        text-align: right;\n",
       "    }\n",
       "</style>\n",
       "<table border=\"1\" class=\"dataframe\">\n",
       "  <thead>\n",
       "    <tr style=\"text-align: right;\">\n",
       "      <th></th>\n",
       "      <th>country</th>\n",
       "      <th>age</th>\n",
       "      <th>new_user</th>\n",
       "      <th>channel</th>\n",
       "      <th>page_visits</th>\n",
       "      <th>converted</th>\n",
       "    </tr>\n",
       "  </thead>\n",
       "  <tbody>\n",
       "    <tr>\n",
       "      <th>0</th>\n",
       "      <td>UK</td>\n",
       "      <td>25</td>\n",
       "      <td>1</td>\n",
       "      <td>Ads</td>\n",
       "      <td>1</td>\n",
       "      <td>0</td>\n",
       "    </tr>\n",
       "    <tr>\n",
       "      <th>1</th>\n",
       "      <td>US</td>\n",
       "      <td>23</td>\n",
       "      <td>1</td>\n",
       "      <td>Seo</td>\n",
       "      <td>5</td>\n",
       "      <td>0</td>\n",
       "    </tr>\n",
       "    <tr>\n",
       "      <th>2</th>\n",
       "      <td>US</td>\n",
       "      <td>28</td>\n",
       "      <td>1</td>\n",
       "      <td>Seo</td>\n",
       "      <td>4</td>\n",
       "      <td>0</td>\n",
       "    </tr>\n",
       "    <tr>\n",
       "      <th>3</th>\n",
       "      <td>China</td>\n",
       "      <td>39</td>\n",
       "      <td>1</td>\n",
       "      <td>Seo</td>\n",
       "      <td>5</td>\n",
       "      <td>0</td>\n",
       "    </tr>\n",
       "    <tr>\n",
       "      <th>4</th>\n",
       "      <td>US</td>\n",
       "      <td>30</td>\n",
       "      <td>1</td>\n",
       "      <td>Seo</td>\n",
       "      <td>6</td>\n",
       "      <td>0</td>\n",
       "    </tr>\n",
       "  </tbody>\n",
       "</table>\n",
       "</div>"
      ],
      "text/plain": [
       "  country  age new_user channel  page_visits  converted\n",
       "0      UK   25        1     Ads            1          0\n",
       "1      US   23        1     Seo            5          0\n",
       "2      US   28        1     Seo            4          0\n",
       "3   China   39        1     Seo            5          0\n",
       "4      US   30        1     Seo            6          0"
      ]
     },
     "execution_count": 103,
     "metadata": {},
     "output_type": "execute_result"
    }
   ],
   "source": [
    "# Creating a derived DF with renamed columns for simplicity\n",
    "df_edit= df_original.rename(columns= {'total_pages_visited':'page_visits', 'source':'channel'})\n",
    "df_edit.head()"
   ]
  },
  {
   "cell_type": "markdown",
   "id": "c0a6e6ab",
   "metadata": {},
   "source": [
    "#### Univariate Analysis "
   ]
  },
  {
   "cell_type": "code",
   "execution_count": 104,
   "id": "ade6eb65",
   "metadata": {},
   "outputs": [
    {
     "data": {
      "image/png": "[encoded data removed]",
      "text/plain": [
       "<Figure size 1500x500 with 2 Axes>"
      ]
     },
     "metadata": {},
     "output_type": "display_data"
    }
   ],
   "source": [
    "# Plotting histogram to review distribution of discrete variables\n",
    "fig, axes = plt.subplots(1,2, figsize= (15,5))\n",
    "ax1= sns.histplot(df_edit['age'], binwidth= 10, binrange= (0,120), ax= axes[0])\n",
    "ax1.set_title('Histogram of Age')\n",
    "\n",
    "ax2= sns.histplot(df_edit['page_visits'], binwidth= 5, binrange= (0,40), ax= axes[1])\n",
    "ax2.set_title('Histogram of page_visits')\n",
    "\n",
    "plt.show()"
   ]
  },
  {
   "cell_type": "code",
   "execution_count": 105,
   "id": "31ec523c",
   "metadata": {},
   "outputs": [
    {
     "name": "stdout",
     "output_type": "stream",
     "text": [
      "Five Number Summary - Age:-\n",
      "Minimum age: 17\n",
      "Lower Quartile: 24.0\n",
      "Median: 30.0\n",
      "Upper Quartile: 36.0\n",
      "Maximum age: 123\n",
      "\n",
      "Five Number Summary - page_visits:-\n",
      "Minimum visits: 1\n",
      "Lower Quartile: 2.0\n",
      "Median: 4.0\n",
      "Upper Quartile: 7.0\n",
      "Maximum visits: 29\n"
     ]
    }
   ],
   "source": [
    "# Summary Statistics:\n",
    "print('Five Number Summary - Age:-')\n",
    "print('Minimum age:', df_edit['age'].min())\n",
    "print('Lower Quartile:', df_edit['age'].quantile(0.25))\n",
    "print('Median:', df_edit['age'].median())\n",
    "print('Upper Quartile:', df_edit['age'].quantile(0.75))\n",
    "print('Maximum age:', df_edit['age'].max())\n",
    "\n",
    "print()\n",
    "print('Five Number Summary - page_visits:-')\n",
    "print('Minimum visits:', df_edit['page_visits'].min())\n",
    "print('Lower Quartile:', df_edit['page_visits'].quantile(0.25))\n",
    "print('Median:', df_edit['page_visits'].median())\n",
    "print('Upper Quartile:', df_edit['page_visits'].quantile(0.75))\n",
    "print('Maximum visits:', df_edit['page_visits'].max())\n"
   ]
  },
  {
   "cell_type": "markdown",
   "id": "feed4c82",
   "metadata": {},
   "source": [
    "- Most visitors are between the age of 20-30 (more than 120K). \n",
    "- Most visitors are viewing between 0-5 pages on the website.\n",
    "- Most visitors are aged 30 and visit 4 pages.\n",
    "- Both distributions are skewed to the right."
   ]
  },
  {
   "cell_type": "code",
   "execution_count": 106,
   "id": "203ae440",
   "metadata": {},
   "outputs": [
    {
     "name": "stdout",
     "output_type": "stream",
     "text": [
      "country\n",
      "US         178092\n",
      "China       76602\n",
      "UK          48450\n",
      "Germany     13056\n",
      "Name: count, dtype: int64\n",
      "\n",
      "new_user\n",
      "1    216744\n",
      "0     99456\n",
      "Name: count, dtype: int64\n",
      "\n",
      "channel\n",
      "Seo       155040\n",
      "Ads        88740\n",
      "Direct     72420\n",
      "Name: count, dtype: int64\n",
      "\n",
      "converted\n",
      "0    306000\n",
      "1     10200\n",
      "Name: count, dtype: int64\n"
     ]
    }
   ],
   "source": [
    "# Review frequency counts for categorical variables (country, acquisition channel)\n",
    "\n",
    "print(df_edit['country'].value_counts())\n",
    "print()\n",
    "print(df_edit['new_user'].value_counts())\n",
    "print()\n",
    "print(df_edit['channel'].value_counts())\n",
    "print()\n",
    "print(df_edit['converted'].value_counts())"
   ]
  },
  {
   "cell_type": "markdown",
   "id": "5bc29c1b",
   "metadata": {},
   "source": [
    "For our target variable, we have ~3% values as converted. There is a high *Class Imbalance* here, and if we do not get satisfactory performance from our models, we may try *Class Balancing*."
   ]
  },
  {
   "cell_type": "markdown",
   "id": "adf0e49b",
   "metadata": {},
   "source": [
    "#### Bivariate Analysis"
   ]
  },
  {
   "cell_type": "markdown",
   "id": "fe34a60c",
   "metadata": {},
   "source": [
    "##### Comparison by Market"
   ]
  },
  {
   "cell_type": "code",
   "execution_count": 107,
   "id": "1afbd287",
   "metadata": {},
   "outputs": [
    {
     "data": {
      "text/html": [
       "<style type=\"text/css\">\n",
       "#T_ad8ef_row0_col0 {\n",
       "  background-color: #fff7fb;\n",
       "  color: #000000;\n",
       "}\n",
       "#T_ad8ef_row1_col0 {\n",
       "  background-color: #023858;\n",
       "  color: #f1f1f1;\n",
       "}\n",
       "#T_ad8ef_row2_col0 {\n",
       "  background-color: #046097;\n",
       "  color: #f1f1f1;\n",
       "}\n",
       "#T_ad8ef_row3_col0 {\n",
       "  background-color: #4496c3;\n",
       "  color: #f1f1f1;\n",
       "}\n",
       "</style>\n",
       "<table id=\"T_ad8ef\">\n",
       "  <thead>\n",
       "    <tr>\n",
       "      <th class=\"blank level0\" >&nbsp;</th>\n",
       "      <th id=\"T_ad8ef_level0_col0\" class=\"col_heading level0 col0\" >converted</th>\n",
       "    </tr>\n",
       "    <tr>\n",
       "      <th class=\"index_name level0\" >country</th>\n",
       "      <th class=\"blank col0\" >&nbsp;</th>\n",
       "    </tr>\n",
       "  </thead>\n",
       "  <tbody>\n",
       "    <tr>\n",
       "      <th id=\"T_ad8ef_level0_row0\" class=\"row_heading level0 row0\" >China</th>\n",
       "      <td id=\"T_ad8ef_row0_col0\" class=\"data row0 col0\" >0.13%</td>\n",
       "    </tr>\n",
       "    <tr>\n",
       "      <th id=\"T_ad8ef_level0_row1\" class=\"row_heading level0 row1\" >Germany</th>\n",
       "      <td id=\"T_ad8ef_row1_col0\" class=\"data row1 col0\" >6.25%</td>\n",
       "    </tr>\n",
       "    <tr>\n",
       "      <th id=\"T_ad8ef_level0_row2\" class=\"row_heading level0 row2\" >UK</th>\n",
       "      <td id=\"T_ad8ef_row2_col0\" class=\"data row2 col0\" >5.26%</td>\n",
       "    </tr>\n",
       "    <tr>\n",
       "      <th id=\"T_ad8ef_level0_row3\" class=\"row_heading level0 row3\" >US</th>\n",
       "      <td id=\"T_ad8ef_row3_col0\" class=\"data row3 col0\" >3.78%</td>\n",
       "    </tr>\n",
       "  </tbody>\n",
       "</table>\n"
      ],
      "text/plain": [
       "<pandas.io.formats.style.Styler at 0x1eb70fb9310>"
      ]
     },
     "execution_count": 107,
     "metadata": {},
     "output_type": "execute_result"
    }
   ],
   "source": [
    "# Comparison of Average and Std. Deviation of Age, New User, Page Visits and Conversion by Country\n",
    "df_edit.groupby(['country'], observed=True)[['converted']].mean().style.background_gradient().format(\"{:.2%}\")"
   ]
  },
  {
   "cell_type": "code",
   "execution_count": 108,
   "id": "59ac1a46",
   "metadata": {},
   "outputs": [
    {
     "data": {
      "text/plain": [
       "country\n",
       "US         178092\n",
       "China       76602\n",
       "UK          48450\n",
       "Germany     13056\n",
       "Name: count, dtype: int64"
      ]
     },
     "execution_count": 108,
     "metadata": {},
     "output_type": "execute_result"
    }
   ],
   "source": [
    "df_edit['country'].value_counts()"
   ]
  },
  {
   "cell_type": "markdown",
   "id": "967c60bd",
   "metadata": {},
   "source": [
    "- Germany has the highest conversion ratio (6.25%), whereas China has the least (0.13%). Hence, Germany might be an emerging market, whereas China, given it's higher users and lower conversion rate, shows good potential."
   ]
  },
  {
   "cell_type": "markdown",
   "id": "127a8dd1",
   "metadata": {},
   "source": [
    "##### Comparison by Age"
   ]
  },
  {
   "cell_type": "code",
   "execution_count": 109,
   "id": "c5abcd93",
   "metadata": {},
   "outputs": [
    {
     "data": {
      "text/html": [
       "<div>\n",
       "<style scoped>\n",
       "    .dataframe tbody tr th:only-of-type {\n",
       "        vertical-align: middle;\n",
       "    }\n",
       "\n",
       "    .dataframe tbody tr th {\n",
       "        vertical-align: top;\n",
       "    }\n",
       "\n",
       "    .dataframe thead th {\n",
       "        text-align: right;\n",
       "    }\n",
       "</style>\n",
       "<table border=\"1\" class=\"dataframe\">\n",
       "  <thead>\n",
       "    <tr style=\"text-align: right;\">\n",
       "      <th></th>\n",
       "      <th>country</th>\n",
       "      <th>age</th>\n",
       "      <th>new_user</th>\n",
       "      <th>channel</th>\n",
       "      <th>page_visits</th>\n",
       "      <th>converted</th>\n",
       "      <th>age_bracket</th>\n",
       "    </tr>\n",
       "  </thead>\n",
       "  <tbody>\n",
       "    <tr>\n",
       "      <th>0</th>\n",
       "      <td>UK</td>\n",
       "      <td>25</td>\n",
       "      <td>1</td>\n",
       "      <td>Ads</td>\n",
       "      <td>1</td>\n",
       "      <td>0</td>\n",
       "      <td>Medium</td>\n",
       "    </tr>\n",
       "    <tr>\n",
       "      <th>1</th>\n",
       "      <td>US</td>\n",
       "      <td>23</td>\n",
       "      <td>1</td>\n",
       "      <td>Seo</td>\n",
       "      <td>5</td>\n",
       "      <td>0</td>\n",
       "      <td>Low</td>\n",
       "    </tr>\n",
       "    <tr>\n",
       "      <th>2</th>\n",
       "      <td>US</td>\n",
       "      <td>28</td>\n",
       "      <td>1</td>\n",
       "      <td>Seo</td>\n",
       "      <td>4</td>\n",
       "      <td>0</td>\n",
       "      <td>Medium</td>\n",
       "    </tr>\n",
       "    <tr>\n",
       "      <th>3</th>\n",
       "      <td>China</td>\n",
       "      <td>39</td>\n",
       "      <td>1</td>\n",
       "      <td>Seo</td>\n",
       "      <td>5</td>\n",
       "      <td>0</td>\n",
       "      <td>Very High</td>\n",
       "    </tr>\n",
       "    <tr>\n",
       "      <th>4</th>\n",
       "      <td>US</td>\n",
       "      <td>30</td>\n",
       "      <td>1</td>\n",
       "      <td>Seo</td>\n",
       "      <td>6</td>\n",
       "      <td>0</td>\n",
       "      <td>Medium</td>\n",
       "    </tr>\n",
       "    <tr>\n",
       "      <th>5</th>\n",
       "      <td>US</td>\n",
       "      <td>31</td>\n",
       "      <td>0</td>\n",
       "      <td>Seo</td>\n",
       "      <td>1</td>\n",
       "      <td>0</td>\n",
       "      <td>High</td>\n",
       "    </tr>\n",
       "    <tr>\n",
       "      <th>6</th>\n",
       "      <td>China</td>\n",
       "      <td>27</td>\n",
       "      <td>1</td>\n",
       "      <td>Seo</td>\n",
       "      <td>4</td>\n",
       "      <td>0</td>\n",
       "      <td>Medium</td>\n",
       "    </tr>\n",
       "    <tr>\n",
       "      <th>7</th>\n",
       "      <td>US</td>\n",
       "      <td>23</td>\n",
       "      <td>0</td>\n",
       "      <td>Ads</td>\n",
       "      <td>4</td>\n",
       "      <td>0</td>\n",
       "      <td>Low</td>\n",
       "    </tr>\n",
       "    <tr>\n",
       "      <th>8</th>\n",
       "      <td>UK</td>\n",
       "      <td>29</td>\n",
       "      <td>0</td>\n",
       "      <td>Direct</td>\n",
       "      <td>4</td>\n",
       "      <td>0</td>\n",
       "      <td>Medium</td>\n",
       "    </tr>\n",
       "    <tr>\n",
       "      <th>9</th>\n",
       "      <td>US</td>\n",
       "      <td>25</td>\n",
       "      <td>0</td>\n",
       "      <td>Ads</td>\n",
       "      <td>2</td>\n",
       "      <td>0</td>\n",
       "      <td>Medium</td>\n",
       "    </tr>\n",
       "  </tbody>\n",
       "</table>\n",
       "</div>"
      ],
      "text/plain": [
       "  country  age new_user channel  page_visits  converted age_bracket\n",
       "0      UK   25        1     Ads            1          0      Medium\n",
       "1      US   23        1     Seo            5          0         Low\n",
       "2      US   28        1     Seo            4          0      Medium\n",
       "3   China   39        1     Seo            5          0   Very High\n",
       "4      US   30        1     Seo            6          0      Medium\n",
       "5      US   31        0     Seo            1          0        High\n",
       "6   China   27        1     Seo            4          0      Medium\n",
       "7      US   23        0     Ads            4          0         Low\n",
       "8      UK   29        0  Direct            4          0      Medium\n",
       "9      US   25        0     Ads            2          0      Medium"
      ]
     },
     "execution_count": 109,
     "metadata": {},
     "output_type": "execute_result"
    }
   ],
   "source": [
    "# Categorize age for assessment\n",
    "age_review= df_edit.copy()\n",
    "age_review['age_bracket'] = pd.qcut(age_review['age'],4,labels= ['Low', 'Medium','High','Very High'])\n",
    "age_review.head(10)"
   ]
  },
  {
   "cell_type": "code",
   "execution_count": 110,
   "id": "b0de64ae",
   "metadata": {},
   "outputs": [
    {
     "name": "stdout",
     "output_type": "stream",
     "text": [
      "Min. age in Low bracket: age    17\n",
      "dtype: int64\n",
      "Max. age in Low bracket: age    24\n",
      "dtype: int64\n",
      "\n",
      "Min. age in Medium bracket: age    25\n",
      "dtype: int64\n",
      "Max. age in Medium bracket: age    30\n",
      "dtype: int64\n",
      "\n",
      "Min. age in High bracket: age    31\n",
      "dtype: int64\n",
      "Max. age in High bracket: age    36\n",
      "dtype: int64\n",
      "\n",
      "Min. age in Very High bracket: age    37\n",
      "dtype: int64\n",
      "Max. age in Very High bracket: age    123\n",
      "dtype: int64\n"
     ]
    }
   ],
   "source": [
    "# Check Age Bracket Definitions\n",
    "print('Min. age in Low bracket:', age_review[age_review['age_bracket'] == 'Low'][['age']].min())\n",
    "print('Max. age in Low bracket:', age_review[age_review['age_bracket'] == 'Low'][['age']].max())\n",
    "print()\n",
    "print('Min. age in Medium bracket:', age_review[age_review['age_bracket'] == 'Medium'][['age']].min())\n",
    "print('Max. age in Medium bracket:', age_review[age_review['age_bracket'] == 'Medium'][['age']].max())\n",
    "print()\n",
    "print('Min. age in High bracket:', age_review[age_review['age_bracket'] == 'High'][['age']].min())\n",
    "print('Max. age in High bracket:', age_review[age_review['age_bracket'] == 'High'][['age']].max())\n",
    "print()\n",
    "print('Min. age in Very High bracket:', age_review[age_review['age_bracket'] == 'Very High'][['age']].min())\n",
    "print('Max. age in Very High bracket:', age_review[age_review['age_bracket'] == 'Very High'][['age']].max())"
   ]
  },
  {
   "cell_type": "code",
   "execution_count": 111,
   "id": "93511da0",
   "metadata": {},
   "outputs": [
    {
     "data": {
      "text/html": [
       "<style type=\"text/css\">\n",
       "#T_715bf_row0_col0 {\n",
       "  background-color: #023858;\n",
       "  color: #f1f1f1;\n",
       "}\n",
       "#T_715bf_row1_col0 {\n",
       "  background-color: #71a8ce;\n",
       "  color: #f1f1f1;\n",
       "}\n",
       "#T_715bf_row2_col0 {\n",
       "  background-color: #d5d5e8;\n",
       "  color: #000000;\n",
       "}\n",
       "#T_715bf_row3_col0 {\n",
       "  background-color: #fff7fb;\n",
       "  color: #000000;\n",
       "}\n",
       "</style>\n",
       "<table id=\"T_715bf\">\n",
       "  <thead>\n",
       "    <tr>\n",
       "      <th class=\"blank level0\" >&nbsp;</th>\n",
       "      <th id=\"T_715bf_level0_col0\" class=\"col_heading level0 col0\" >converted</th>\n",
       "    </tr>\n",
       "    <tr>\n",
       "      <th class=\"index_name level0\" >age_bracket</th>\n",
       "      <th class=\"blank col0\" >&nbsp;</th>\n",
       "    </tr>\n",
       "  </thead>\n",
       "  <tbody>\n",
       "    <tr>\n",
       "      <th id=\"T_715bf_level0_row0\" class=\"row_heading level0 row0\" >Low</th>\n",
       "      <td id=\"T_715bf_row0_col0\" class=\"data row0 col0\" >5.54%</td>\n",
       "    </tr>\n",
       "    <tr>\n",
       "      <th id=\"T_715bf_level0_row1\" class=\"row_heading level0 row1\" >Medium</th>\n",
       "      <td id=\"T_715bf_row1_col0\" class=\"data row1 col0\" >3.45%</td>\n",
       "    </tr>\n",
       "    <tr>\n",
       "      <th id=\"T_715bf_level0_row2\" class=\"row_heading level0 row2\" >High</th>\n",
       "      <td id=\"T_715bf_row2_col0\" class=\"data row2 col0\" >2.28%</td>\n",
       "    </tr>\n",
       "    <tr>\n",
       "      <th id=\"T_715bf_level0_row3\" class=\"row_heading level0 row3\" >Very High</th>\n",
       "      <td id=\"T_715bf_row3_col0\" class=\"data row3 col0\" >1.31%</td>\n",
       "    </tr>\n",
       "  </tbody>\n",
       "</table>\n"
      ],
      "text/plain": [
       "<pandas.io.formats.style.Styler at 0x1eb70fb96d0>"
      ]
     },
     "execution_count": 111,
     "metadata": {},
     "output_type": "execute_result"
    }
   ],
   "source": [
    "# Comparison of Average and Std. Deviation of New User, Page Visits and Conversion by Age\n",
    "age_review.groupby(['age_bracket'], observed= True)[['converted']].mean().style.background_gradient().format(\"{:0.2%}\")"
   ]
  },
  {
   "cell_type": "markdown",
   "id": "dbc52892",
   "metadata": {},
   "source": [
    "- Highest conversion rate of 5.54% is observed in the lower age bracket of 17-24, whereas we have the lowest conversion rate in the very-high age bracket of 37+.\n"
   ]
  },
  {
   "cell_type": "code",
   "execution_count": 112,
   "id": "60f8fa46",
   "metadata": {},
   "outputs": [
    {
     "data": {
      "image/png": "[encoded data removed]",
      "text/plain": [
       "<Figure size 500x400 with 1 Axes>"
      ]
     },
     "metadata": {},
     "output_type": "display_data"
    }
   ],
   "source": [
    "# Boxplot Age Distribution for Converted vs. Non-Converted\n",
    "plt.figure(figsize=(5, 4))\n",
    "ax= sns.boxplot(y= age_review['age'], x= age_review['converted'])\n",
    "medians = age_review.groupby('converted')['age'].median()\n",
    "for i, median in enumerate(medians):\n",
    "        ax.text(i, median, f\"{median:.1f}\", ha='center', va='bottom', color='black', fontsize=10, fontweight='bold')\n",
    "\n",
    "\n",
    "plt.title('Boxplot Age Distribution for Converted vs. Non-Converted')\n",
    "plt.tight_layout()\n",
    "plt.show()"
   ]
  },
  {
   "cell_type": "markdown",
   "id": "a4ee7f3d",
   "metadata": {},
   "source": [
    "- Based on conversion rate and age distribution, we can see clearly that visitors with a lower age are more likely to convert."
   ]
  },
  {
   "cell_type": "markdown",
   "id": "c4b67cee",
   "metadata": {},
   "source": [
    "##### Comparison by User Type"
   ]
  },
  {
   "cell_type": "code",
   "execution_count": 113,
   "id": "fc84524b",
   "metadata": {},
   "outputs": [
    {
     "name": "stderr",
     "output_type": "stream",
     "text": [
      "C:\\Users\\Tirthankar Raha\\AppData\\Local\\Temp\\ipykernel_2352\\2903829176.py:2: FutureWarning: The default of observed=False is deprecated and will be changed to True in a future version of pandas. Pass observed=False to retain current behavior or observed=True to adopt the future default and silence this warning.\n",
      "  df_edit.groupby(['new_user'])[['converted']].mean().style.background_gradient().format(\"{:.2%}\")\n"
     ]
    },
    {
     "data": {
      "text/html": [
       "<style type=\"text/css\">\n",
       "#T_fe98f_row0_col0 {\n",
       "  background-color: #023858;\n",
       "  color: #f1f1f1;\n",
       "}\n",
       "#T_fe98f_row1_col0 {\n",
       "  background-color: #fff7fb;\n",
       "  color: #000000;\n",
       "}\n",
       "</style>\n",
       "<table id=\"T_fe98f\">\n",
       "  <thead>\n",
       "    <tr>\n",
       "      <th class=\"blank level0\" >&nbsp;</th>\n",
       "      <th id=\"T_fe98f_level0_col0\" class=\"col_heading level0 col0\" >converted</th>\n",
       "    </tr>\n",
       "    <tr>\n",
       "      <th class=\"index_name level0\" >new_user</th>\n",
       "      <th class=\"blank col0\" >&nbsp;</th>\n",
       "    </tr>\n",
       "  </thead>\n",
       "  <tbody>\n",
       "    <tr>\n",
       "      <th id=\"T_fe98f_level0_row0\" class=\"row_heading level0 row0\" >0</th>\n",
       "      <td id=\"T_fe98f_row0_col0\" class=\"data row0 col0\" >7.20%</td>\n",
       "    </tr>\n",
       "    <tr>\n",
       "      <th id=\"T_fe98f_level0_row1\" class=\"row_heading level0 row1\" >1</th>\n",
       "      <td id=\"T_fe98f_row1_col0\" class=\"data row1 col0\" >1.40%</td>\n",
       "    </tr>\n",
       "  </tbody>\n",
       "</table>\n"
      ],
      "text/plain": [
       "<pandas.io.formats.style.Styler at 0x1eb72009a90>"
      ]
     },
     "execution_count": 113,
     "metadata": {},
     "output_type": "execute_result"
    }
   ],
   "source": [
    "# Comparison of Average and Std. Deviation of Page Visits and Conversion by New Users\n",
    "df_edit.groupby(['new_user'])[['converted']].mean().style.background_gradient().format(\"{:.2%}\")\n"
   ]
  },
  {
   "cell_type": "code",
   "execution_count": 114,
   "id": "a6cb7b1b",
   "metadata": {},
   "outputs": [
    {
     "data": {
      "text/plain": [
       "new_user\n",
       "1    68.54649\n",
       "0    31.45351\n",
       "Name: proportion, dtype: float64"
      ]
     },
     "execution_count": 114,
     "metadata": {},
     "output_type": "execute_result"
    }
   ],
   "source": [
    "df_edit['new_user'].value_counts(normalize= True)* 100"
   ]
  },
  {
   "cell_type": "markdown",
   "id": "65f675a4",
   "metadata": {},
   "source": [
    "- For existing users, we have higher avg. page visits and %age conversion of 7.20%. However, majority of users are new (68.55%), which have a conversion rate of only 1.40%."
   ]
  },
  {
   "cell_type": "markdown",
   "id": "89446b52",
   "metadata": {},
   "source": [
    "##### Comparison by Channel"
   ]
  },
  {
   "cell_type": "code",
   "execution_count": 115,
   "id": "0338fbc6",
   "metadata": {},
   "outputs": [
    {
     "data": {
      "text/html": [
       "<style type=\"text/css\">\n",
       "#T_b762d_row0_col0 {\n",
       "  background-color: #023858;\n",
       "  color: #f1f1f1;\n",
       "}\n",
       "#T_b762d_row1_col0 {\n",
       "  background-color: #fff7fb;\n",
       "  color: #000000;\n",
       "}\n",
       "#T_b762d_row2_col0 {\n",
       "  background-color: #0570b0;\n",
       "  color: #f1f1f1;\n",
       "}\n",
       "</style>\n",
       "<table id=\"T_b762d\">\n",
       "  <thead>\n",
       "    <tr>\n",
       "      <th class=\"blank level0\" >&nbsp;</th>\n",
       "      <th id=\"T_b762d_level0_col0\" class=\"col_heading level0 col0\" >converted</th>\n",
       "    </tr>\n",
       "    <tr>\n",
       "      <th class=\"index_name level0\" >channel</th>\n",
       "      <th class=\"blank col0\" >&nbsp;</th>\n",
       "    </tr>\n",
       "  </thead>\n",
       "  <tbody>\n",
       "    <tr>\n",
       "      <th id=\"T_b762d_level0_row0\" class=\"row_heading level0 row0\" >Ads</th>\n",
       "      <td id=\"T_b762d_row0_col0\" class=\"data row0 col0\" >3.45%</td>\n",
       "    </tr>\n",
       "    <tr>\n",
       "      <th id=\"T_b762d_level0_row1\" class=\"row_heading level0 row1\" >Direct</th>\n",
       "      <td id=\"T_b762d_row1_col0\" class=\"data row1 col0\" >2.82%</td>\n",
       "    </tr>\n",
       "    <tr>\n",
       "      <th id=\"T_b762d_level0_row2\" class=\"row_heading level0 row2\" >Seo</th>\n",
       "      <td id=\"T_b762d_row2_col0\" class=\"data row2 col0\" >3.29%</td>\n",
       "    </tr>\n",
       "  </tbody>\n",
       "</table>\n"
      ],
      "text/plain": [
       "<pandas.io.formats.style.Styler at 0x1eb72009bd0>"
      ]
     },
     "execution_count": 115,
     "metadata": {},
     "output_type": "execute_result"
    }
   ],
   "source": [
    "# Comparison of Average and Std. Deviation of Page Visits and Conversion by Channel\n",
    "df_edit.groupby(['channel'], observed= True)[['converted']].mean().style.background_gradient().format(\"{:.2%}\")"
   ]
  },
  {
   "cell_type": "markdown",
   "id": "46fb8e91",
   "metadata": {},
   "source": [
    "- We observe the highest conversion rate of 3.45% among visitors from ads, which is slightly higher than with SEO.\n",
    "- Lowest conversion rate is observed among Direct visitors (2.82%)."
   ]
  },
  {
   "cell_type": "markdown",
   "id": "2e26c6eb",
   "metadata": {},
   "source": [
    "##### Comparison by Page Visits"
   ]
  },
  {
   "cell_type": "code",
   "execution_count": 116,
   "id": "21212887",
   "metadata": {},
   "outputs": [
    {
     "data": {
      "image/png": "[encoded data removed]",
      "text/plain": [
       "<Figure size 500x400 with 1 Axes>"
      ]
     },
     "metadata": {},
     "output_type": "display_data"
    }
   ],
   "source": [
    "# Boxplot Page Visits for Converted vs. Non-Converted\n",
    "plt.figure(figsize=(5, 4))\n",
    "ax= sns.boxplot(y= df_edit['page_visits'], x= df_edit['converted'])\n",
    "medians = df_edit.groupby('converted')['page_visits'].median()\n",
    "for i, median in enumerate(medians):\n",
    "        ax.text(i, median, f\"{median:.1f}\", ha='center', va='bottom', color='black', fontsize=10, fontweight='bold')\n",
    "\n",
    "\n",
    "plt.title('Boxplot Page Visits for Converted vs. Non-Converted')\n",
    "plt.tight_layout()\n",
    "plt.show()"
   ]
  },
  {
   "cell_type": "markdown",
   "id": "61723297",
   "metadata": {},
   "source": [
    "- Median page visits for converted visitors is 14. Hence, generally users who visit more no. of pages are more likely to convert, as expected."
   ]
  },
  {
   "cell_type": "markdown",
   "id": "c83a1219",
   "metadata": {},
   "source": [
    "#### Summary of Observations"
   ]
  },
  {
   "cell_type": "markdown",
   "id": "1bb8d342",
   "metadata": {},
   "source": [
    "1. We have 2 numeric discrete variables (age, total_pages_visited), 2 categorical finite variables (country, source) and 2 categorical boolean variables (new_user, converted)\n",
    "2. Based on the variables provided, there are likely to be duplicates and it would not be wrong to have them. Hence we are not removing any duplicates. No Null values were found.\n",
    "3.  Numeric variables age aand total_pages_visited have outliers, age having the most outliers. Two sessions have age > 100, which seems unlikely. The outliers for now haven't been addressed, and would be treated as necessary at the modeling stage.\n",
    "4. Columns were renamed from total_pages_visited to page_visits and source to channel, for accurate representation and brevity.\n",
    "5. **Univariate Analysis**:\n",
    "    - Distribution of numeric variables age and page_visits are both skewed to the right. \n",
    "    - Most visitors are aged 30 and visit 4 pages.\n",
    "    - For our target variable (converted), we have ~3% values as converted. There is a high *Class Imbalance*, and if we might not be getting good prediction from our model, we might consider balancing.\n",
    "6. **Bivariate Analysis**:\n",
    "    - *Comparison by Markets*:\n",
    "        - Germany has the highest conversion ratio (6.25%), whereas China has the least (0.13%). Hence, Germany might be an emerging market, whereas China, given it's higher users and lower conversion rate, shows good potential.\n",
    "    - *Comparison by Age*:\n",
    "        - Highest conversion rate of 5.54% is observed in the lower age bracket of 17-24, whereas we have the lowest conversion rate in the very-high age bracket of 37+.\n",
    "        - Based on conversion rate and age distribution, we can see clearly that visitors with a lower age are more likely to convert.\n",
    "    - *Comparison by User Type*:\n",
    "        - For existing users, we have higher avg. page visits and %age conversion of 7.20%. However, majority of users are new (68.55%), which have a conversion rate of only 1.40%.\n",
    "    - *Comparison by Channel*:\n",
    "        - We observe the highest conversion rate of 3.45% among visitors from ads, which is slightly higher than with SEO.\n",
    "        - Lowest conversion rate is observed among Direct visitors (2.82%).\n",
    "    - *Comparison by Page Visits*:\n",
    "        - Median page visits for converted visitors is 14. Hence, generally users who visit more no. of pages are more likely to convert, as expected."
   ]
  },
  {
   "cell_type": "markdown",
   "id": "3f086b35",
   "metadata": {},
   "source": [
    "### Statistical Testing\n",
    "We'll follow the workflow below:\n",
    "- **[Dependancy among categorical variables]: Chi-Square Test for Independence**\n",
    "    - Does Conversion get impacted by Market\n",
    "    - Does Conversion get impacted by Marketing Channel\n",
    "    - Does Conversion get impacted by User Type\n",
    "- **[Dependancy among numerical and categorical variables]: Independent 2 sample t-test/Mann-Whitney U-test for median**\n",
    "    - Check normal distribution for age, page_visits\n",
    "    - Equality of variance for age, page_visits (Levene's Test for equality of variance)\n",
    "    - Apply suitable hypothesis testing model (2-sample t-test/Mann-Whitney)."
   ]
  },
  {
   "cell_type": "code",
   "execution_count": 117,
   "id": "c42f1ebe",
   "metadata": {},
   "outputs": [
    {
     "name": "stdout",
     "output_type": "stream",
     "text": [
      "<class 'pandas.core.frame.DataFrame'>\n",
      "RangeIndex: 316200 entries, 0 to 316199\n",
      "Data columns (total 6 columns):\n",
      " #   Column       Non-Null Count   Dtype   \n",
      "---  ------       --------------   -----   \n",
      " 0   country      316200 non-null  category\n",
      " 1   age          316200 non-null  int64   \n",
      " 2   new_user     316200 non-null  category\n",
      " 3   channel      316200 non-null  category\n",
      " 4   page_visits  316200 non-null  int64   \n",
      " 5   converted    316200 non-null  int64   \n",
      "dtypes: category(3), int64(3)\n",
      "memory usage: 8.1 MB\n"
     ]
    }
   ],
   "source": [
    "df_edit.info()"
   ]
  },
  {
   "cell_type": "markdown",
   "id": "68261831",
   "metadata": {},
   "source": [
    "#### Chi-Square Test for Independence (Stat. Significance)"
   ]
  },
  {
   "cell_type": "code",
   "execution_count": null,
   "id": "96038eca",
   "metadata": {},
   "outputs": [],
   "source": [
    "# Function to conduct Chi-Square Test of Independence\n",
    "## Alpha for statistical test is being set to 0.05.\n",
    "def chi_test(data, col1, conv):\n",
    "    ''' \n",
    "    Intended to setup contingency table and conduct Chi-Square test for independence to determine if we can reject the null hypothesis, \n",
    "    that the conversion rate is not impacted by the categorical variable. Function returns the p-value as output.\n",
    "    Arguments:\n",
    "    data: Name of Dataframe\n",
    "    col1: categorical variable name\n",
    "    conv: Column referring to session conversion \n",
    "    '''\n",
    "    cont_table= data.pivot_table(index= col1, columns= conv, aggfunc= 'size', fill_value= 0, observed= True)\n",
    "    cont_table= cont_table.to_numpy()\n",
    "    result= chi2_contingency(cont_table, correction= False)[1]\n",
    "    return result"
   ]
  },
  {
   "cell_type": "code",
   "execution_count": 130,
   "id": "25a36665",
   "metadata": {},
   "outputs": [
    {
     "name": "stdout",
     "output_type": "stream",
     "text": [
      "p-value Chi Square Test for Market: 0.0\n",
      "p-value Chi Square Test for Channel: 1.2160321383469431e-12\n",
      "p-value Chi Square Test for User Type: 0.0\n"
     ]
    }
   ],
   "source": [
    "print('p-value Chi Square Test for Market:', chi_test(df_edit,'country','converted'))\n",
    "print('p-value Chi Square Test for Channel:', chi_test(df_edit,'channel','converted'))\n",
    "print('p-value Chi Square Test for User Type:', chi_test(df_edit,'new_user','converted'))"
   ]
  },
  {
   "cell_type": "markdown",
   "id": "0acee69c",
   "metadata": {},
   "source": [
    "Based on the p-value of the above tests (< 0.05), we can claim that session conversion is definitely influenced by the Market, Channel and User type."
   ]
  },
  {
   "cell_type": "markdown",
   "id": "2c9419c0",
   "metadata": {},
   "source": [
    "#### Dependancy among numerical and categorical variables"
   ]
  },
  {
   "cell_type": "markdown",
   "id": "a6aa03d9",
   "metadata": {},
   "source": [
    "##### Check normal distribution for age, page_visits"
   ]
  },
  {
   "cell_type": "code",
   "execution_count": 137,
   "id": "1fa3aea2",
   "metadata": {},
   "outputs": [
    {
     "name": "stdout",
     "output_type": "stream",
     "text": [
      "<class 'pandas.core.frame.DataFrame'>\n",
      "Index: 10200 entries, 54 to 316184\n",
      "Data columns (total 6 columns):\n",
      " #   Column       Non-Null Count  Dtype   \n",
      "---  ------       --------------  -----   \n",
      " 0   country      10200 non-null  category\n",
      " 1   age          10200 non-null  int64   \n",
      " 2   new_user     10200 non-null  category\n",
      " 3   channel      10200 non-null  category\n",
      " 4   page_visits  10200 non-null  int64   \n",
      " 5   converted    10200 non-null  int64   \n",
      "dtypes: category(3), int64(3)\n",
      "memory usage: 349.1 KB\n"
     ]
    }
   ],
   "source": [
    "df_edit[df_edit['converted'] == 1].info()"
   ]
  },
  {
   "cell_type": "markdown",
   "id": "1e9cd367",
   "metadata": {},
   "source": [
    "Given we have 10,200 data points only for converted visitors, Shapiro test doesn't give accurate results. We'll go for Anderson test for Normality instead."
   ]
  },
  {
   "cell_type": "code",
   "execution_count": 141,
   "id": "ffa64c80",
   "metadata": {},
   "outputs": [
    {
     "name": "stdout",
     "output_type": "stream",
     "text": [
      "Anderson-Darling Statistic: 132.4654\n",
      "\n",
      "Significance Level (%) | Critical Value | Test Result\n",
      "----------------------------------------------------------------------\n",
      "                 15.0% |         0.5760 | Reject H0 (Not Normal)\n",
      "                 10.0% |         0.6560 | Reject H0 (Not Normal)\n",
      "                  5.0% |         0.7870 | Reject H0 (Not Normal)\n",
      "                  2.5% |         0.9180 | Reject H0 (Not Normal)\n",
      "                  1.0% |         1.0920 | Reject H0 (Not Normal)\n"
     ]
    }
   ],
   "source": [
    "# Extract the 'age' values for converted users\n",
    "data = df_edit[df_edit['converted'] == 1]['age']\n",
    "\n",
    "# Perform Anderson-Darling test for normality\n",
    "result = anderson(data, dist='norm')\n",
    "\n",
    "print(f\"Anderson-Darling Statistic: {result.statistic:.4f}\")\n",
    "print(\"\\nSignificance Level (%) | Critical Value | Test Result\")\n",
    "print(\"-\" * 70)\n",
    "for sl, cv in zip(result.significance_level, result.critical_values):\n",
    "    test_outcome = \"Reject H0 (Not Normal)\" if result.statistic > cv else \"Fail to Reject H0 (Normal)\"\n",
    "    print(f\"{sl:>21}% | {cv:>14.4f} | {test_outcome}\")"
   ]
  },
  {
   "cell_type": "code",
   "execution_count": 143,
   "id": "1049ac40",
   "metadata": {},
   "outputs": [
    {
     "name": "stdout",
     "output_type": "stream",
     "text": [
      "Anderson-Darling Statistic: 1562.2182\n",
      "\n",
      "Significance Level (%) | Critical Value | Test Result\n",
      "----------------------------------------------------------------------\n",
      "                 15.0% |         0.5760 | Reject H0 (Not Normal)\n",
      "                 10.0% |         0.6560 | Reject H0 (Not Normal)\n",
      "                  5.0% |         0.7870 | Reject H0 (Not Normal)\n",
      "                  2.5% |         0.9180 | Reject H0 (Not Normal)\n",
      "                  1.0% |         1.0920 | Reject H0 (Not Normal)\n"
     ]
    }
   ],
   "source": [
    "# Extract the 'age' values for converted users\n",
    "data = df_edit[df_edit['converted'] == 0]['age']\n",
    "\n",
    "# Perform Anderson-Darling test for normality\n",
    "result = anderson(data, dist='norm')\n",
    "\n",
    "print(f\"Anderson-Darling Statistic: {result.statistic:.4f}\")\n",
    "print(\"\\nSignificance Level (%) | Critical Value | Test Result\")\n",
    "print(\"-\" * 70)\n",
    "for sl, cv in zip(result.significance_level, result.critical_values):\n",
    "    test_outcome = \"Reject H0 (Not Normal)\" if result.statistic > cv else \"Fail to Reject H0 (Normal)\"\n",
    "    print(f\"{sl:>21}% | {cv:>14.4f} | {test_outcome}\")"
   ]
  },
  {
   "cell_type": "code",
   "execution_count": 142,
   "id": "14fa5c5b",
   "metadata": {},
   "outputs": [
    {
     "name": "stdout",
     "output_type": "stream",
     "text": [
      "Anderson-Darling Statistic: 26.6935\n",
      "\n",
      "Significance Level (%) | Critical Value | Test Result\n",
      "----------------------------------------------------------------------\n",
      "                 15.0% |         0.5760 | Reject H0 (Not Normal)\n",
      "                 10.0% |         0.6560 | Reject H0 (Not Normal)\n",
      "                  5.0% |         0.7870 | Reject H0 (Not Normal)\n",
      "                  2.5% |         0.9180 | Reject H0 (Not Normal)\n",
      "                  1.0% |         1.0920 | Reject H0 (Not Normal)\n"
     ]
    }
   ],
   "source": [
    "# Extract the 'page visits' values for converted users\n",
    "data = df_edit[df_edit['converted'] == 1]['page_visits']\n",
    "\n",
    "# Perform Anderson-Darling test for normality\n",
    "result = anderson(data, dist='norm')\n",
    "\n",
    "print(f\"Anderson-Darling Statistic: {result.statistic:.4f}\")\n",
    "print(\"\\nSignificance Level (%) | Critical Value | Test Result\")\n",
    "print(\"-\" * 70)\n",
    "for sl, cv in zip(result.significance_level, result.critical_values):\n",
    "    test_outcome = \"Reject H0 (Not Normal)\" if result.statistic > cv else \"Fail to Reject H0 (Normal)\"\n",
    "    print(f\"{sl:>21}% | {cv:>14.4f} | {test_outcome}\")"
   ]
  },
  {
   "cell_type": "code",
   "execution_count": 144,
   "id": "9cb85150",
   "metadata": {},
   "outputs": [
    {
     "name": "stdout",
     "output_type": "stream",
     "text": [
      "Anderson-Darling Statistic: 5632.7733\n",
      "\n",
      "Significance Level (%) | Critical Value | Test Result\n",
      "----------------------------------------------------------------------\n",
      "                 15.0% |         0.5760 | Reject H0 (Not Normal)\n",
      "                 10.0% |         0.6560 | Reject H0 (Not Normal)\n",
      "                  5.0% |         0.7870 | Reject H0 (Not Normal)\n",
      "                  2.5% |         0.9180 | Reject H0 (Not Normal)\n",
      "                  1.0% |         1.0920 | Reject H0 (Not Normal)\n"
     ]
    }
   ],
   "source": [
    "# Extract the 'page visits' values for converted users\n",
    "data = df_edit[df_edit['converted'] == 0]['page_visits']\n",
    "\n",
    "# Perform Anderson-Darling test for normality\n",
    "result = anderson(data, dist='norm')\n",
    "\n",
    "print(f\"Anderson-Darling Statistic: {result.statistic:.4f}\")\n",
    "print(\"\\nSignificance Level (%) | Critical Value | Test Result\")\n",
    "print(\"-\" * 70)\n",
    "for sl, cv in zip(result.significance_level, result.critical_values):\n",
    "    test_outcome = \"Reject H0 (Not Normal)\" if result.statistic > cv else \"Fail to Reject H0 (Normal)\"\n",
    "    print(f\"{sl:>21}% | {cv:>14.4f} | {test_outcome}\")"
   ]
  },
  {
   "cell_type": "markdown",
   "id": "b622c4b1",
   "metadata": {},
   "source": [
    "Based on the above test, the distribution isn't normal for age and page_visits, hence we don't need to conduct Equality of Variance Test. We'll move forward with **Mann-Whitney U-test**."
   ]
  },
  {
   "cell_type": "code",
   "execution_count": 146,
   "id": "25bb7e7b",
   "metadata": {},
   "outputs": [
    {
     "name": "stdout",
     "output_type": "stream",
     "text": [
      "P-Value Mann-Whitney U Test for Medians(age): 0.0\n",
      "P-Value Mann-Whitney U Test for Medians(page_visits): 0.0\n"
     ]
    }
   ],
   "source": [
    "u_stat_age, u_p_value_age = mannwhitneyu(df_edit[df_edit['converted'] == 1]['age'] , df_edit[df_edit['converted'] == 0]['age'])\n",
    "u_stat_page_visit, u_p_value_page_visits = mannwhitneyu(df_edit[df_edit['converted'] == 1]['page_visits'] , df_edit[df_edit['converted'] == 0]['page_visits'])\n",
    "\n",
    "print(\"P-Value Mann-Whitney U Test for Medians(age):\",u_p_value_age)\n",
    "print(\"P-Value Mann-Whitney U Test for Medians(page_visits):\",u_p_value_page_visits)"
   ]
  },
  {
   "cell_type": "markdown",
   "id": "df553bd5",
   "metadata": {},
   "source": [
    "Based on the p-values, we can reject the null hypothesis, and conclude that age and page_visits influence conversion significantly. This is also something we observed during EDA."
   ]
  },
  {
   "cell_type": "markdown",
   "id": "92a1ff76",
   "metadata": {},
   "source": [
    "#### A/B Testing Simulation"
   ]
  },
  {
   "cell_type": "code",
   "execution_count": 120,
   "id": "856d3545",
   "metadata": {},
   "outputs": [
    {
     "data": {
      "text/html": [
       "<div>\n",
       "<style scoped>\n",
       "    .dataframe tbody tr th:only-of-type {\n",
       "        vertical-align: middle;\n",
       "    }\n",
       "\n",
       "    .dataframe tbody tr th {\n",
       "        vertical-align: top;\n",
       "    }\n",
       "\n",
       "    .dataframe thead th {\n",
       "        text-align: right;\n",
       "    }\n",
       "</style>\n",
       "<table border=\"1\" class=\"dataframe\">\n",
       "  <thead>\n",
       "    <tr style=\"text-align: right;\">\n",
       "      <th></th>\n",
       "      <th>country</th>\n",
       "      <th>age</th>\n",
       "      <th>new_user</th>\n",
       "      <th>channel</th>\n",
       "      <th>page_visits</th>\n",
       "      <th>converted</th>\n",
       "    </tr>\n",
       "  </thead>\n",
       "  <tbody>\n",
       "    <tr>\n",
       "      <th>0</th>\n",
       "      <td>UK</td>\n",
       "      <td>25</td>\n",
       "      <td>1</td>\n",
       "      <td>Ads</td>\n",
       "      <td>1</td>\n",
       "      <td>0</td>\n",
       "    </tr>\n",
       "    <tr>\n",
       "      <th>1</th>\n",
       "      <td>US</td>\n",
       "      <td>23</td>\n",
       "      <td>1</td>\n",
       "      <td>Seo</td>\n",
       "      <td>5</td>\n",
       "      <td>0</td>\n",
       "    </tr>\n",
       "    <tr>\n",
       "      <th>2</th>\n",
       "      <td>US</td>\n",
       "      <td>28</td>\n",
       "      <td>1</td>\n",
       "      <td>Seo</td>\n",
       "      <td>4</td>\n",
       "      <td>0</td>\n",
       "    </tr>\n",
       "    <tr>\n",
       "      <th>3</th>\n",
       "      <td>China</td>\n",
       "      <td>39</td>\n",
       "      <td>1</td>\n",
       "      <td>Seo</td>\n",
       "      <td>5</td>\n",
       "      <td>0</td>\n",
       "    </tr>\n",
       "    <tr>\n",
       "      <th>4</th>\n",
       "      <td>US</td>\n",
       "      <td>30</td>\n",
       "      <td>1</td>\n",
       "      <td>Seo</td>\n",
       "      <td>6</td>\n",
       "      <td>0</td>\n",
       "    </tr>\n",
       "  </tbody>\n",
       "</table>\n",
       "</div>"
      ],
      "text/plain": [
       "  country  age new_user channel  page_visits  converted\n",
       "0      UK   25        1     Ads            1          0\n",
       "1      US   23        1     Seo            5          0\n",
       "2      US   28        1     Seo            4          0\n",
       "3   China   39        1     Seo            5          0\n",
       "4      US   30        1     Seo            6          0"
      ]
     },
     "execution_count": 120,
     "metadata": {},
     "output_type": "execute_result"
    }
   ],
   "source": [
    "df_edit.head()"
   ]
  },
  {
   "cell_type": "code",
   "execution_count": 121,
   "id": "b3a46a77",
   "metadata": {},
   "outputs": [
    {
     "data": {
      "text/plain": [
       "(316200, 6)"
      ]
     },
     "execution_count": 121,
     "metadata": {},
     "output_type": "execute_result"
    }
   ],
   "source": [
    "df_edit.shape"
   ]
  },
  {
   "cell_type": "markdown",
   "id": "8638118d",
   "metadata": {},
   "source": [
    "Within our sample data, we do not have an identifier for an upgraded landing page, as well as a date column. To simulate a hypothetical A/B test, we'll split the dataset into 2 parts randomly using train_test_split (though it is usually used for ML Testing).\n",
    "- 70% of the data considered previous to landing page changes.\n",
    "- 30% of the data considered post landing page changes."
   ]
  },
  {
   "cell_type": "code",
   "execution_count": 122,
   "id": "d1fc89e2",
   "metadata": {},
   "outputs": [],
   "source": [
    "# Train test splitting the data to generate A/B test samples \n",
    "y = df_edit['converted']\n",
    "X= df_edit.drop(columns= ['converted'])\n",
    "\n",
    "XAB_train, XAB_test, yAB_train, yAB_test= train_test_split(X,y, test_size= 0.3, random_state= 100)"
   ]
  },
  {
   "cell_type": "code",
   "execution_count": 123,
   "id": "a84a97ee",
   "metadata": {},
   "outputs": [
    {
     "data": {
      "text/html": [
       "<div>\n",
       "<style scoped>\n",
       "    .dataframe tbody tr th:only-of-type {\n",
       "        vertical-align: middle;\n",
       "    }\n",
       "\n",
       "    .dataframe tbody tr th {\n",
       "        vertical-align: top;\n",
       "    }\n",
       "\n",
       "    .dataframe thead th {\n",
       "        text-align: right;\n",
       "    }\n",
       "</style>\n",
       "<table border=\"1\" class=\"dataframe\">\n",
       "  <thead>\n",
       "    <tr style=\"text-align: right;\">\n",
       "      <th></th>\n",
       "      <th>country</th>\n",
       "      <th>age</th>\n",
       "      <th>new_user</th>\n",
       "      <th>channel</th>\n",
       "      <th>page_visits</th>\n",
       "      <th>converted</th>\n",
       "    </tr>\n",
       "  </thead>\n",
       "  <tbody>\n",
       "    <tr>\n",
       "      <th>167241</th>\n",
       "      <td>US</td>\n",
       "      <td>34</td>\n",
       "      <td>1</td>\n",
       "      <td>Seo</td>\n",
       "      <td>4</td>\n",
       "      <td>0</td>\n",
       "    </tr>\n",
       "    <tr>\n",
       "      <th>240238</th>\n",
       "      <td>US</td>\n",
       "      <td>36</td>\n",
       "      <td>1</td>\n",
       "      <td>Seo</td>\n",
       "      <td>2</td>\n",
       "      <td>0</td>\n",
       "    </tr>\n",
       "    <tr>\n",
       "      <th>276075</th>\n",
       "      <td>UK</td>\n",
       "      <td>31</td>\n",
       "      <td>1</td>\n",
       "      <td>Direct</td>\n",
       "      <td>6</td>\n",
       "      <td>0</td>\n",
       "    </tr>\n",
       "    <tr>\n",
       "      <th>163394</th>\n",
       "      <td>US</td>\n",
       "      <td>34</td>\n",
       "      <td>0</td>\n",
       "      <td>Seo</td>\n",
       "      <td>6</td>\n",
       "      <td>0</td>\n",
       "    </tr>\n",
       "    <tr>\n",
       "      <th>116722</th>\n",
       "      <td>Germany</td>\n",
       "      <td>33</td>\n",
       "      <td>1</td>\n",
       "      <td>Seo</td>\n",
       "      <td>6</td>\n",
       "      <td>0</td>\n",
       "    </tr>\n",
       "  </tbody>\n",
       "</table>\n",
       "</div>"
      ],
      "text/plain": [
       "        country  age new_user channel  page_visits  converted\n",
       "167241       US   34        1     Seo            4          0\n",
       "240238       US   36        1     Seo            2          0\n",
       "276075       UK   31        1  Direct            6          0\n",
       "163394       US   34        0     Seo            6          0\n",
       "116722  Germany   33        1     Seo            6          0"
      ]
     },
     "execution_count": 123,
     "metadata": {},
     "output_type": "execute_result"
    }
   ],
   "source": [
    "# Group A sample (Control group)\n",
    "A_sample= pd.concat([XAB_train,yAB_train],axis=1)\n",
    "A_sample.head()"
   ]
  },
  {
   "cell_type": "code",
   "execution_count": 124,
   "id": "c56db420",
   "metadata": {},
   "outputs": [
    {
     "name": "stdout",
     "output_type": "stream",
     "text": [
      "A-sample conversion rate: 3.17%\n"
     ]
    }
   ],
   "source": [
    "# Sample A conversion rate\n",
    "print('A-sample conversion rate:','{:.2f}%'.format(A_sample['converted'].mean() * 100))"
   ]
  },
  {
   "cell_type": "code",
   "execution_count": 125,
   "id": "5251ac54",
   "metadata": {},
   "outputs": [
    {
     "ename": "NameError",
     "evalue": "name 'n' is not defined",
     "output_type": "error",
     "traceback": [
      "\u001b[31m---------------------------------------------------------------------------\u001b[39m",
      "\u001b[31mNameError\u001b[39m                                 Traceback (most recent call last)",
      "\u001b[36mCell\u001b[39m\u001b[36m \u001b[39m\u001b[32mIn[125]\u001b[39m\u001b[32m, line 3\u001b[39m\n\u001b[32m      1\u001b[39m \u001b[38;5;66;03m# Binomial Distribution of Binary 'converted' variable in Control Group\u001b[39;00m\n\u001b[32m      2\u001b[39m nA= A_sample.shape[\u001b[32m0\u001b[39m]\n\u001b[32m----> \u001b[39m\u001b[32m3\u001b[39m pA= A_sample[\u001b[33m'\u001b[39m\u001b[33mconverted\u001b[39m\u001b[33m'\u001b[39m].sum()/\u001b[43mn\u001b[49m\n\u001b[32m      5\u001b[39m x_min= \u001b[38;5;28mint\u001b[39m(binom.ppf(\u001b[32m0.001\u001b[39m,nA,pA))\n\u001b[32m      6\u001b[39m x_max= \u001b[38;5;28mint\u001b[39m(binom.ppf(\u001b[32m0.999\u001b[39m,nA,pA))\n",
      "\u001b[31mNameError\u001b[39m: name 'n' is not defined"
     ]
    }
   ],
   "source": [
    "# Binomial Distribution of Binary 'converted' variable in Control Group\n",
    "nA= A_sample.shape[0]\n",
    "pA= A_sample['converted'].sum()/n\n",
    "\n",
    "x_min= int(binom.ppf(0.001,nA,pA))\n",
    "x_max= int(binom.ppf(0.999,nA,pA))\n",
    "\n",
    "x= np.arange(x_min, x_max)\n",
    "\n",
    "pmf= binom.pmf(x,nA,pA)\n",
    "plt.figure(figsize= (8,4))\n",
    "plt.bar(x, pmf)\n",
    "plt.xlabel('Number of Successes')\n",
    "plt.ylabel('Probability')\n",
    "plt.title(f'Binomial Distribution (n={nA}, p={pA})')\n",
    "plt.show()\n"
   ]
  },
  {
   "cell_type": "code",
   "execution_count": null,
   "id": "ad3c8724",
   "metadata": {},
   "outputs": [
    {
     "data": {
      "text/html": [
       "<div>\n",
       "<style scoped>\n",
       "    .dataframe tbody tr th:only-of-type {\n",
       "        vertical-align: middle;\n",
       "    }\n",
       "\n",
       "    .dataframe tbody tr th {\n",
       "        vertical-align: top;\n",
       "    }\n",
       "\n",
       "    .dataframe thead th {\n",
       "        text-align: right;\n",
       "    }\n",
       "</style>\n",
       "<table border=\"1\" class=\"dataframe\">\n",
       "  <thead>\n",
       "    <tr style=\"text-align: right;\">\n",
       "      <th></th>\n",
       "      <th>country</th>\n",
       "      <th>age</th>\n",
       "      <th>new_user</th>\n",
       "      <th>channel</th>\n",
       "      <th>page_visits</th>\n",
       "      <th>converted</th>\n",
       "    </tr>\n",
       "  </thead>\n",
       "  <tbody>\n",
       "    <tr>\n",
       "      <th>23915</th>\n",
       "      <td>US</td>\n",
       "      <td>46</td>\n",
       "      <td>1</td>\n",
       "      <td>Seo</td>\n",
       "      <td>4</td>\n",
       "      <td>0</td>\n",
       "    </tr>\n",
       "    <tr>\n",
       "      <th>60991</th>\n",
       "      <td>US</td>\n",
       "      <td>42</td>\n",
       "      <td>1</td>\n",
       "      <td>Ads</td>\n",
       "      <td>6</td>\n",
       "      <td>0</td>\n",
       "    </tr>\n",
       "    <tr>\n",
       "      <th>69351</th>\n",
       "      <td>China</td>\n",
       "      <td>31</td>\n",
       "      <td>1</td>\n",
       "      <td>Seo</td>\n",
       "      <td>7</td>\n",
       "      <td>0</td>\n",
       "    </tr>\n",
       "    <tr>\n",
       "      <th>111300</th>\n",
       "      <td>US</td>\n",
       "      <td>39</td>\n",
       "      <td>1</td>\n",
       "      <td>Ads</td>\n",
       "      <td>3</td>\n",
       "      <td>0</td>\n",
       "    </tr>\n",
       "    <tr>\n",
       "      <th>146166</th>\n",
       "      <td>China</td>\n",
       "      <td>30</td>\n",
       "      <td>1</td>\n",
       "      <td>Seo</td>\n",
       "      <td>4</td>\n",
       "      <td>0</td>\n",
       "    </tr>\n",
       "  </tbody>\n",
       "</table>\n",
       "</div>"
      ],
      "text/plain": [
       "       country  age  new_user channel  page_visits  converted\n",
       "23915       US   46         1     Seo            4          0\n",
       "60991       US   42         1     Ads            6          0\n",
       "69351    China   31         1     Seo            7          0\n",
       "111300      US   39         1     Ads            3          0\n",
       "146166   China   30         1     Seo            4          0"
      ]
     },
     "execution_count": 48,
     "metadata": {},
     "output_type": "execute_result"
    }
   ],
   "source": [
    "# Group B sample (Treatment group)\n",
    "B_sample= pd.concat([XAB_test,yAB_test],axis=1)\n",
    "B_sample.head()"
   ]
  },
  {
   "cell_type": "code",
   "execution_count": null,
   "id": "241eda6a",
   "metadata": {},
   "outputs": [
    {
     "name": "stdout",
     "output_type": "stream",
     "text": [
      "B-sample conversion rate: 3.354%\n"
     ]
    }
   ],
   "source": [
    "# Sample B conversion rate\n",
    "print('B-sample conversion rate:','{:.3f}%'.format(B_sample['converted'].mean() * 100))"
   ]
  },
  {
   "cell_type": "code",
   "execution_count": null,
   "id": "7ff798ed",
   "metadata": {},
   "outputs": [
    {
     "data": {
      "image/png": "[encoded data removed]",
      "text/plain": [
       "<Figure size 800x400 with 1 Axes>"
      ]
     },
     "metadata": {},
     "output_type": "display_data"
    }
   ],
   "source": [
    "# Binomial Distribution of Binary 'converted' variable in Treatment group\n",
    "nB= B_sample.shape[0]\n",
    "pB= B_sample['converted'].sum()/n\n",
    "\n",
    "x_min= int(binom.ppf(0.001,nB,pB))\n",
    "x_max= int(binom.ppf(0.999,nB,pB))\n",
    "\n",
    "x= np.arange(x_min, x_max)\n",
    "\n",
    "pmf= binom.pmf(x,nB,pB)\n",
    "plt.figure(figsize= (8,4))\n",
    "plt.bar(x, pmf)\n",
    "plt.xlabel('Number of Successes')\n",
    "plt.ylabel('Probability')\n",
    "plt.title(f'Binomial Distribution (n={nB}, p={pB})')\n",
    "plt.show()\n"
   ]
  },
  {
   "cell_type": "code",
   "execution_count": null,
   "id": "1cf920ff",
   "metadata": {},
   "outputs": [
    {
     "data": {
      "text/html": [
       "<div>\n",
       "<style scoped>\n",
       "    .dataframe tbody tr th:only-of-type {\n",
       "        vertical-align: middle;\n",
       "    }\n",
       "\n",
       "    .dataframe tbody tr th {\n",
       "        vertical-align: top;\n",
       "    }\n",
       "\n",
       "    .dataframe thead th {\n",
       "        text-align: right;\n",
       "    }\n",
       "</style>\n",
       "<table border=\"1\" class=\"dataframe\">\n",
       "  <thead>\n",
       "    <tr style=\"text-align: right;\">\n",
       "      <th></th>\n",
       "      <th>country</th>\n",
       "      <th>age</th>\n",
       "      <th>new_user</th>\n",
       "      <th>channel</th>\n",
       "      <th>page_visits</th>\n",
       "      <th>converted</th>\n",
       "      <th>test_grp</th>\n",
       "    </tr>\n",
       "  </thead>\n",
       "  <tbody>\n",
       "    <tr>\n",
       "      <th>0</th>\n",
       "      <td>US</td>\n",
       "      <td>26</td>\n",
       "      <td>0</td>\n",
       "      <td>Ads</td>\n",
       "      <td>8</td>\n",
       "      <td>0</td>\n",
       "      <td>control</td>\n",
       "    </tr>\n",
       "    <tr>\n",
       "      <th>1</th>\n",
       "      <td>US</td>\n",
       "      <td>23</td>\n",
       "      <td>0</td>\n",
       "      <td>Direct</td>\n",
       "      <td>3</td>\n",
       "      <td>0</td>\n",
       "      <td>control</td>\n",
       "    </tr>\n",
       "    <tr>\n",
       "      <th>2</th>\n",
       "      <td>US</td>\n",
       "      <td>39</td>\n",
       "      <td>0</td>\n",
       "      <td>Seo</td>\n",
       "      <td>9</td>\n",
       "      <td>0</td>\n",
       "      <td>control</td>\n",
       "    </tr>\n",
       "    <tr>\n",
       "      <th>3</th>\n",
       "      <td>US</td>\n",
       "      <td>32</td>\n",
       "      <td>1</td>\n",
       "      <td>Seo</td>\n",
       "      <td>3</td>\n",
       "      <td>0</td>\n",
       "      <td>control</td>\n",
       "    </tr>\n",
       "    <tr>\n",
       "      <th>4</th>\n",
       "      <td>US</td>\n",
       "      <td>42</td>\n",
       "      <td>0</td>\n",
       "      <td>Direct</td>\n",
       "      <td>8</td>\n",
       "      <td>0</td>\n",
       "      <td>control</td>\n",
       "    </tr>\n",
       "  </tbody>\n",
       "</table>\n",
       "</div>"
      ],
      "text/plain": [
       "  country  age  new_user channel  page_visits  converted test_grp\n",
       "0      US   26         0     Ads            8          0  control\n",
       "1      US   23         0  Direct            3          0  control\n",
       "2      US   39         0     Seo            9          0  control\n",
       "3      US   32         1     Seo            3          0  control\n",
       "4      US   42         0  Direct            8          0  control"
      ]
     },
     "execution_count": 61,
     "metadata": {},
     "output_type": "execute_result"
    }
   ],
   "source": [
    "# Random sampling from both Treatment and Control group\n",
    "\n",
    "ctrl_sample= A_sample.sample(n= 20000, random_state= 46)\n",
    "tmnt_sample= B_sample.sample(n= 20000, random_state= 46)\n",
    "\n",
    "ctrl_sample['test_grp']= 'control'\n",
    "tmnt_sample['test_grp']= 'treatment'\n",
    "\n",
    "sample_test= pd.concat([ctrl_sample,tmnt_sample], ignore_index= True)\n",
    "sample_test.head()"
   ]
  },
  {
   "cell_type": "code",
   "execution_count": null,
   "id": "0b1891c5",
   "metadata": {},
   "outputs": [
    {
     "data": {
      "text/html": [
       "<div>\n",
       "<style scoped>\n",
       "    .dataframe tbody tr th:only-of-type {\n",
       "        vertical-align: middle;\n",
       "    }\n",
       "\n",
       "    .dataframe tbody tr th {\n",
       "        vertical-align: top;\n",
       "    }\n",
       "\n",
       "    .dataframe thead th {\n",
       "        text-align: right;\n",
       "    }\n",
       "</style>\n",
       "<table border=\"1\" class=\"dataframe\">\n",
       "  <thead>\n",
       "    <tr style=\"text-align: right;\">\n",
       "      <th></th>\n",
       "      <th>converted</th>\n",
       "      <th>country</th>\n",
       "      <th>proportion</th>\n",
       "    </tr>\n",
       "    <tr>\n",
       "      <th>test_grp</th>\n",
       "      <th></th>\n",
       "      <th></th>\n",
       "      <th></th>\n",
       "    </tr>\n",
       "  </thead>\n",
       "  <tbody>\n",
       "    <tr>\n",
       "      <th>control</th>\n",
       "      <td>656</td>\n",
       "      <td>20000</td>\n",
       "      <td>0.03280</td>\n",
       "    </tr>\n",
       "    <tr>\n",
       "      <th>treatment</th>\n",
       "      <td>673</td>\n",
       "      <td>20000</td>\n",
       "      <td>0.03365</td>\n",
       "    </tr>\n",
       "  </tbody>\n",
       "</table>\n",
       "</div>"
      ],
      "text/plain": [
       "           converted  country  proportion\n",
       "test_grp                                 \n",
       "control          656    20000     0.03280\n",
       "treatment        673    20000     0.03365"
      ]
     },
     "execution_count": 73,
     "metadata": {},
     "output_type": "execute_result"
    }
   ],
   "source": [
    "sample_test_agg= sample_test.groupby(['test_grp']).agg({'converted':'sum','country':'count'})\n",
    "sample_test_agg['proportion']= sample_test_agg['converted']/sample_test_agg['country']\n",
    "sample_test_agg"
   ]
  },
  {
   "cell_type": "code",
   "execution_count": null,
   "id": "ffa58443",
   "metadata": {},
   "outputs": [
    {
     "data": {
      "text/plain": [
       "np.float64(0.635308883695795)"
      ]
     },
     "execution_count": 74,
     "metadata": {},
     "output_type": "execute_result"
    }
   ],
   "source": [
    "number_of_successes= [656,673]\n",
    "total_sample_sizes= [20000,20000]\n",
    "\n",
    "test_stat, p_value= proportions_ztest(number_of_successes,total_sample_sizes)\n",
    "p_value"
   ]
  },
  {
   "cell_type": "markdown",
   "id": "81680592",
   "metadata": {},
   "source": []
  },
  {
   "cell_type": "markdown",
   "id": "81a7de3c",
   "metadata": {},
   "source": [
    "### Develop Machine Learning Classification Model\n",
    "We'll follow the workflow below:\n",
    "- Identify relevant variables for modeling based on Stats Testing.\n",
    "- Design classification models using:\n",
    "    - Logistic Regression\n",
    "    - Naive Bayes\n",
    "    - Random Forest with Cross Validation\n",
    "    - XGBoost with Cross Validation\n",
    "- Model Tuning and EDA\n",
    "\n",
    "\n"
   ]
  },
  {
   "cell_type": "markdown",
   "id": "f2a30395",
   "metadata": {},
   "source": [
    "### Final Assessment, Summary and Recommendations"
   ]
  }
 ],
 "metadata": {
  "kernelspec": {
   "display_name": "Python 3",
   "language": "python",
   "name": "python3"
  },
  "language_info": {
   "codemirror_mode": {
    "name": "ipython",
    "version": 3
   },
   "file_extension": ".py",
   "mimetype": "text/x-python",
   "name": "python",
   "nbconvert_exporter": "python",
   "pygments_lexer": "ipython3",
   "version": "3.13.5"
  }
 },
 "nbformat": 4,
 "nbformat_minor": 5
}
